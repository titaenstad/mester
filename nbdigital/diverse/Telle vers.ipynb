{
 "cells": [
  {
   "cell_type": "markdown",
   "metadata": {},
   "source": [
    "## Move split books to poems"
   ]
  },
  {
   "cell_type": "code",
   "execution_count": null,
   "metadata": {},
   "outputs": [],
   "source": [
    "from pathlib import Path\n",
    "\n",
    "tf = Path(\"dikt_split/bokmål/yes/2014102306006.txt\")\n",
    "pp = Path(\"p\")\n",
    "\n",
    "dikt_start = \"#---START---#\"\n",
    "dikt_slutt = \"#---SLUTT---#\"\n",
    "\n",
    "with tf.open() as f:\n",
    "    content = f.read()\n",
    "s = content.split(dikt_start)\n",
    "diktene = [d.split(dikt_slutt)[0] for d in s if len(d.split(dikt_slutt))>1]\n",
    "for i, dikt in enumerate(diktene):\n",
    "    fp = pp / f\"2014102306006_{i+1}.txt\"\n",
    "    with fp.open(\"w+\") as f:\n",
    "        f.write(dikt[1:])"
   ]
  },
  {
   "cell_type": "markdown",
   "metadata": {},
   "source": [
    "## Flytt dikt_split til poems (og tell linjer)"
   ]
  },
  {
   "cell_type": "code",
   "execution_count": null,
   "metadata": {
    "scrolled": false
   },
   "outputs": [],
   "source": [
    "from pathlib import Path\n",
    "np = Path(\"dikt_split/bokmål\")\n",
    "\n",
    "bp = Path(\"poems/bokmål\")\n",
    "nnp = Path(\"poems/nynorsk\")\n",
    "\n",
    "\n",
    "dikt_start = \"#---START---#\"\n",
    "dikt_slutt = \"#---SLUTT---#\"\n",
    "alle = []\n",
    "linjer = 0\n",
    "\n",
    "for e in np.iterdir():\n",
    "    if e.is_file():\n",
    "        with e.open() as f:\n",
    "            content = f.read()\n",
    "            s = content.split(dikt_start)\n",
    "            diktene = [d.split(dikt_slutt)[0] for d in s if len(d.split(dikt_slutt))>1]\n",
    "            n = e.name[:-4]\n",
    "            print(n, len(diktene))\n",
    "            for i, dikt in enumerate(diktene):\n",
    "                if dikt.startswith(\"\\nNYNORSK\"):\n",
    "                    dikt = dikt[8:]\n",
    "                    fp = nnp / f\"{n}_{i+1}.txt\"\n",
    "                else:\n",
    "                    fp = bp / f\"{n}_{i+1}.txt\"\n",
    "\n",
    "                with fp.open(\"w+\") as f:\n",
    "                    f.write(dikt[1:])\n",
    "\n",
    "                bitene = dikt.split(\"\\n\\n\")\n",
    "                linjene = [bit.split(\"\\n\") for bit in bitene]\n",
    "                for linje in linjene:\n",
    "                    linjer += len(linje)\n",
    "print(linjer)"
   ]
  }
 ],
 "metadata": {
  "kernelspec": {
   "display_name": "Python 3",
   "language": "python",
   "name": "python3"
  },
  "language_info": {
   "codemirror_mode": {
    "name": "ipython",
    "version": 3
   },
   "file_extension": ".py",
   "mimetype": "text/x-python",
   "name": "python",
   "nbconvert_exporter": "python",
   "pygments_lexer": "ipython3",
   "version": "3.8.10"
  }
 },
 "nbformat": 4,
 "nbformat_minor": 4
}
