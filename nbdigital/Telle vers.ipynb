{
 "cells": [
  {
   "cell_type": "markdown",
   "metadata": {},
   "source": [
    "## Tell linjer i kildemateriale (pre-ny ocr)"
   ]
  },
  {
   "cell_type": "code",
   "execution_count": null,
   "metadata": {
    "scrolled": true
   },
   "outputs": [],
   "source": [
    "from pathlib import Path\n",
    "import numpy as np\n",
    "\n",
    "p = Path(\"dikt-idetfri\")\n",
    "lines = []\n",
    "contents = []\n",
    "a = p.iterdir()\n",
    "\n",
    "for file in a:\n",
    "    with file.open() as f:\n",
    "        content = f.read()\n",
    "        lins = content.split(\"\\n\")\n",
    "        contents.append(len(content.split(\" \")))\n",
    "        lines.append(len(lins))\n",
    "\n",
    "print(len(list(p.iterdir())))\n",
    "print(np.mean(contents))\n",
    "\n",
    "print(np.max(lines))\n",
    "print(np.min(lines))\n",
    "print(np.median(lines))\n",
    "print(np.mean(lines))"
   ]
  },
  {
   "cell_type": "markdown",
   "metadata": {},
   "source": [
    "## Sjekk kvaliteten til diktene"
   ]
  },
  {
   "cell_type": "code",
   "execution_count": null,
   "metadata": {
    "scrolled": true
   },
   "outputs": [],
   "source": [
    "from pathlib import Path\n",
    "\n",
    "p = Path(\"post_1900\")\n",
    "\n",
    "for textfile in p.iterdir():\n",
    "        with textfile.open() as f:\n",
    "            print(textfile.name)\n",
    "            print(\"----------------------------------\")\n",
    "            content = f.read()\n",
    "            print(content[3000:4000])\n",
    "            print(\"----------------------------------\\n\\n\")\n",
    "            "
   ]
  },
  {
   "cell_type": "markdown",
   "metadata": {},
   "source": [
    "## Flytt norsk og nynorsk kildetekst"
   ]
  },
  {
   "cell_type": "code",
   "execution_count": null,
   "metadata": {},
   "outputs": [],
   "source": [
    "nynorsk = [2008040200033 , 2006121301001 , 2006120101048 , 2008040804104 , 2007011701030 , 2006120501131 , 2006120101012 , 2012101105061 , 2008041104013 , 2011053104018 , 2008022704011 , 2010053106046 , 2010111006026 , 2012100907114 , 2008041401006 , 2008040201033 , 2012012308310 , 2012111406067 , 2010102606030 , 2008040404048 , 2008052004044 , 2006083000125]\n",
    "norsk = [ 2011042608056 , 2012102608111 , 2011050604061 , 2012032024065 , 2011041408047 , 2011102708082 , 2009013000065 , 2010011113001 , 2011041408091 , 2007011001018 , 2012121105093 , 2006081000055 , 2010011313001 , 2009062204062 ]\n",
    "mayb= [ 2010111606040 , 2010120606023 , 2006083100012 , 2011041408046 , 2007073010003 , 2013012806125 ]\n",
    "\n",
    "from pathlib import Path\n",
    "\n",
    "p = Path(\"dikt_split\")\n",
    "pp = Path(\"post_1900\")\n",
    "\n",
    "for code in nynorsk:\n",
    "    f = pp / f\"{code}.txt\"\n",
    "    if f.exists():\n",
    "        f.rename(p / f\"nynorsk/{f.name}\")\n",
    "\n",
    "for code in norsk:\n",
    "    f = pp / f\"{code}.txt\"\n",
    "    if f.exists():\n",
    "        f.rename(p / f\"bokmål/{f.name}\")\n",
    "    "
   ]
  },
  {
   "cell_type": "markdown",
   "metadata": {},
   "source": [
    "## Move split books to poems"
   ]
  },
  {
   "cell_type": "code",
   "execution_count": null,
   "metadata": {},
   "outputs": [],
   "source": [
    "from pathlib import Path\n",
    "\n",
    "dikt_start = \"#---START---#\"\n",
    "dikt_slutt = \"#---SLUTT---#\"\n",
    "\n",
    "p = Path(\"sammenlikn-ocr\")\n",
    "np = Path(\"dikt_split\")\n",
    "\n",
    "\n",
    "for f in p.iterdir():\n",
    "    textfile = f / f\"{f.name}_dikt_split.txt\"\n",
    "    if textfile.exists():\n",
    "        with textfile.open() as f:\n",
    "            content = f.read()\n",
    "            s = content.split(dikt_start)\n",
    "            diktene = [d.split(dikt_slutt)[0] for d in s if len(d.split(dikt_slutt))>1]\n",
    "            if len(diktene) > 2:\n",
    "                textfile.rename(np / textfile.name)\n",
    "            elif len(diktene) and len(diktene) <= 2:\n",
    "                print(textfile.name)\n",
    "             #   print(te)\n"
   ]
  },
  {
   "cell_type": "code",
   "execution_count": null,
   "metadata": {},
   "outputs": [],
   "source": [
    "from pathlib import Path\n",
    "\n",
    "tf = Path(\"dikt_split/bokmål/yes/2014102306006.txt\")\n",
    "pp = Path(\"p\")\n",
    "\n",
    "dikt_start = \"#---START---#\"\n",
    "dikt_slutt = \"#---SLUTT---#\"\n",
    "\n",
    "with tf.open() as f:\n",
    "    content = f.read()\n",
    "s = content.split(dikt_start)\n",
    "diktene = [d.split(dikt_slutt)[0] for d in s if len(d.split(dikt_slutt))>1]\n",
    "for i, dikt in enumerate(diktene):\n",
    "    fp = pp / f\"2014102306006_{i+1}.txt\"\n",
    "    with fp.open(\"w+\") as f:\n",
    "        f.write(dikt[1:])"
   ]
  },
  {
   "cell_type": "markdown",
   "metadata": {},
   "source": [
    "## Flytt dikt_split til poems (og tell linjer)"
   ]
  },
  {
   "cell_type": "code",
   "execution_count": null,
   "metadata": {
    "scrolled": false
   },
   "outputs": [],
   "source": [
    "from pathlib import Path\n",
    "np = Path(\"dikt_split/bokmål\")\n",
    "\n",
    "bp = Path(\"poems/bokmål\")\n",
    "nnp = Path(\"poems/nynorsk\")\n",
    "\n",
    "\n",
    "dikt_start = \"#---START---#\"\n",
    "dikt_slutt = \"#---SLUTT---#\"\n",
    "alle = []\n",
    "linjer = 0\n",
    "\n",
    "for e in np.iterdir():\n",
    "    if e.is_file():\n",
    "        with e.open() as f:\n",
    "            content = f.read()\n",
    "            s = content.split(dikt_start)\n",
    "            diktene = [d.split(dikt_slutt)[0] for d in s if len(d.split(dikt_slutt))>1]\n",
    "            n = e.name[:-4]\n",
    "            print(n, len(diktene))\n",
    "            for i, dikt in enumerate(diktene):\n",
    "                if dikt.startswith(\"\\nNYNORSK\"):\n",
    "                    dikt = dikt[8:]\n",
    "                    fp = nnp / f\"{n}_{i+1}.txt\"\n",
    "                else:\n",
    "                    fp = bp / f\"{n}_{i+1}.txt\"\n",
    "\n",
    "                with fp.open(\"w+\") as f:\n",
    "                    f.write(dikt[1:])\n",
    "\n",
    "                bitene = dikt.split(\"\\n\\n\")\n",
    "                linjene = [bit.split(\"\\n\") for bit in bitene]\n",
    "                for linje in linjene:\n",
    "                    linjer += len(linje)\n",
    "print(linjer)"
   ]
  },
  {
   "cell_type": "code",
   "execution_count": null,
   "metadata": {
    "scrolled": true
   },
   "outputs": [],
   "source": [
    "from pathlib import Path\n",
    "np = Path(\"dikt_split\")\n",
    "\n",
    "dikt_start = \"#---START---#\"\n",
    "dikt_slutt = \"#---SLUTT---#\"\n",
    "\n",
    "a = list(np.iterdir())\n",
    "alle_linjene = 0\n",
    "ler = {}\n",
    "for x in a:\n",
    "    with x.open() as f:\n",
    "        content = f.read()\n",
    "        s = content.split(dikt_start)\n",
    "        diktene = [d.split(dikt_slutt)[0] for d in s if len(d.split(dikt_slutt))>1]\n",
    "        for dikt in diktene:\n",
    "            bitene = dikt.split(\"\\n\\n\")\n",
    "            for bit in bitene:\n",
    "                linjebiter = bit.split(\"\\n\")\n",
    "                l = len(linjebiter)\n",
    "                alle_linjene+=l\n",
    "                if l > 16:\n",
    "                    print(x.name)\n",
    "                    print(bit)\n",
    "                    print(\"\\n\")\n",
    "                    \n",
    "                    if x.name in ler:\n",
    "                        ler[x.name].append(l)\n",
    "                    else:\n",
    "                        ler[x.name] = [l]\n",
    "\n",
    "\n",
    "for k, v in ler.items():\n",
    "    v.sort(reverse=True)\n",
    "\n",
    "H = sorted(ler.items(), key=lambda x: x[1][0], reverse=True)\n",
    "print(H)\n",
    "\n",
    "# 3355 sonater / 40260 linjer i deep-speare\n",
    "# rhyme-gan = 13 000 * 5 = 65 000 linjer\n",
    "# rhyme-gan = deep-speare +  65 000 = 105260\n",
    "\n",
    "print(alle_linjene)"
   ]
  },
  {
   "cell_type": "markdown",
   "metadata": {},
   "source": [
    "## Flytt diktbitene til ny mappe"
   ]
  },
  {
   "cell_type": "code",
   "execution_count": null,
   "metadata": {},
   "outputs": [],
   "source": [
    "from pathlib import Path\n",
    "\n",
    "p = Path(\"dikt_split\")\n",
    "np = Path(\"poems\")\n",
    "\n",
    "dikt_start = \"#---START---#\"\n",
    "dikt_slutt = \"#---SLUTT---#\"\n",
    "\n",
    "alle_linjene = 0\n",
    "ler = {}\n",
    "for x in p.iterdir():\n",
    "    with x.open() as f:\n",
    "        content = f.read()\n",
    "        if content.startswith(\"dårlig kvalitet\"):\n",
    "            continue\n",
    "        s = content.split(dikt_start)\n",
    "        diktene = [d.split(dikt_slutt)[0].strip() for d in s if len(d.split(dikt_slutt))>1]\n",
    "        for i, dikt in enumerate(diktene):\n",
    "            name = x.name.split(\"_\")[0]\n",
    "            newfile = np / f\"{name}_{i+1}.txt\"\n",
    "            with open(newfile, \"w+\") as f:\n",
    "                    f.write(dikt)"
   ]
  },
  {
   "cell_type": "markdown",
   "metadata": {},
   "source": [
    "## Make subset for inter-annotator agreement"
   ]
  },
  {
   "cell_type": "code",
   "execution_count": null,
   "metadata": {},
   "outputs": [],
   "source": [
    "from pathlib import Path\n",
    "from random import randint\n",
    "\n",
    "p = Path(\"poems\")\n",
    "l = list(p.iterdir())\n",
    "miniset = []\n",
    "tot_stanzas = 0\n",
    "\n",
    "while tot_stanzas < 75:\n",
    "    i = randint(0, len(l))\n",
    "    pp = l.pop(i)\n",
    "    with pp.open(\"r\") as f:\n",
    "        content = f.read()\n",
    "    stanzas = content.split(\"\\n\\n\")\n",
    "    tot_stanzas += len(stanzas)\n",
    "    miniset.append(pp.name)\n",
    "miniset\n"
   ]
  }
 ],
 "metadata": {
  "kernelspec": {
   "display_name": "Python 3",
   "language": "python",
   "name": "python3"
  },
  "language_info": {
   "codemirror_mode": {
    "name": "ipython",
    "version": 3
   },
   "file_extension": ".py",
   "mimetype": "text/x-python",
   "name": "python",
   "nbconvert_exporter": "python",
   "pygments_lexer": "ipython3",
   "version": "3.8.10"
  }
 },
 "nbformat": 4,
 "nbformat_minor": 4
}
