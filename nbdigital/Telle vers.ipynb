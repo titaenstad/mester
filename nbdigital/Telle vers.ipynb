{
 "cells": [
  {
   "cell_type": "markdown",
   "metadata": {},
   "source": [
    "## Tell linjer i kildemateriale (pre-ny ocr)"
   ]
  },
  {
   "cell_type": "code",
   "execution_count": 10,
   "metadata": {},
   "outputs": [
    {
     "name": "stdout",
     "output_type": "stream",
     "text": [
      "593\n",
      "43301.85666104553\n",
      "15209\n",
      "1\n",
      "1030.0\n",
      "1747.2664418212478\n"
     ]
    }
   ],
   "source": [
    "from pathlib import Path\n",
    "import numpy as np\n",
    "\n",
    "p = Path(\"dikt-idetfri\")\n",
    "lines = []\n",
    "contents = []\n",
    "a = p.iterdir()\n",
    "\n",
    "for file in a:\n",
    "    with file.open() as f:\n",
    "        content = f.read()\n",
    "        lins = content.split(\"\\n\")\n",
    "        contents.append(len(content.split(\" \")))\n",
    "        lines.append(len(lins))\n",
    "\n",
    "print(len(list(p.iterdir())))\n",
    "print(np.mean(contents))\n",
    "\n",
    "print(np.max(lines))\n",
    "print(np.min(lines))\n",
    "print(np.median(lines))\n",
    "print(np.mean(lines))"
   ]
  },
  {
   "cell_type": "markdown",
   "metadata": {},
   "source": [
    "## Sjekk kvaliteten til diktene"
   ]
  },
  {
   "cell_type": "code",
   "execution_count": 1,
   "metadata": {
    "scrolled": true
   },
   "outputs": [
    {
     "data": {
      "text/plain": [
       "'\\nfor f in p.iterdir():\\n    textfile = f / f\"{f.name}_dikt_split.txt\"\\n    if textfile.exists():\\n        with textfile.open() as f:\\n            print(textfile.name)\\n            print(\"----------------------------------\")\\n            content = f.read()\\n            print(content[3000:4000])\\n            print(\"----------------------------------\")\\n            \\n'"
      ]
     },
     "execution_count": 1,
     "metadata": {},
     "output_type": "execute_result"
    }
   ],
   "source": [
    "from pathlib import Path\n",
    "\n",
    "p = Path(\"sammenlikn-ocr\")\n",
    "\"\"\"\n",
    "for f in p.iterdir():\n",
    "    textfile = f / f\"{f.name}_dikt_split.txt\"\n",
    "    if textfile.exists():\n",
    "        with textfile.open() as f:\n",
    "            print(textfile.name)\n",
    "            print(\"----------------------------------\")\n",
    "            content = f.read()\n",
    "            print(content[3000:4000])\n",
    "            print(\"----------------------------------\")\n",
    "            \n",
    "\"\"\""
   ]
  },
  {
   "cell_type": "markdown",
   "metadata": {},
   "source": [
    "## Flytt splitta bøker til dikt"
   ]
  },
  {
   "cell_type": "code",
   "execution_count": 28,
   "metadata": {},
   "outputs": [
    {
     "name": "stdout",
     "output_type": "stream",
     "text": [
      "2010011312021_dikt_split.txt\n",
      "2006082400015_dikt_split.txt\n"
     ]
    }
   ],
   "source": [
    "from pathlib import Path\n",
    "\n",
    "dikt_start = \"#---START---#\"\n",
    "dikt_slutt = \"#---SLUTT---#\"\n",
    "\n",
    "p = Path(\"sammenlikn-ocr\")\n",
    "np = Path(\"dikt_split\")\n",
    "\n",
    "\n",
    "for f in p.iterdir():\n",
    "    textfile = f / f\"{f.name}_dikt_split.txt\"\n",
    "    if textfile.exists():\n",
    "        with textfile.open() as f:\n",
    "            content = f.read()\n",
    "            s = content.split(dikt_start)\n",
    "            diktene = [d.split(dikt_slutt)[0] for d in s if len(d.split(dikt_slutt))>1]\n",
    "            if len(diktene) > 2:\n",
    "                textfile.rename(np / textfile.name)\n",
    "            elif len(diktene) and len(diktene) <= 2:\n",
    "                print(textfile.name)\n",
    "             #   print(te)\n"
   ]
  },
  {
   "cell_type": "markdown",
   "metadata": {},
   "source": [
    "## Sjekk hvilke som ikke er splitta ennå"
   ]
  },
  {
   "cell_type": "code",
   "execution_count": 29,
   "metadata": {},
   "outputs": [
    {
     "data": {
      "text/plain": [
       "['2010102505082_dikt_split.txt',\n",
       " '2009022603004_dikt_split.txt',\n",
       " '2012051608041_dikt_split.txt',\n",
       " '2010092803015_dikt_split.txt',\n",
       " '2008052902004_dikt_split.txt',\n",
       " '2009092303055_dikt_split.txt',\n",
       " '2012030524007_dikt_split.txt']"
      ]
     },
     "execution_count": 29,
     "metadata": {},
     "output_type": "execute_result"
    }
   ],
   "source": [
    "from pathlib import Path\n",
    "\n",
    "p = Path(\"sammenlikn-ocr\")\n",
    "np = Path(\"dikt_split\")\n",
    "\n",
    "bra_kvalitet = [\n",
    "    \"2013041105048_dikt_split.txt\",\n",
    "    \"2009062210001_dikt_split.txt\",  \n",
    "    \"2012030524007_dikt_split.txt\",\n",
    "    \"2009082103005_dikt_split.txt\",\n",
    "    \"2010020103018_dikt_split.txt\",\n",
    "    \"2010102505082_dikt_split.txt\",\n",
    "    \"2009022603004_dikt_split.txt\",\n",
    "    \"2012051608041_dikt_split.txt\",\n",
    "    \"2010092803015_dikt_split.txt\",\n",
    "    \"2008052902004_dikt_split.txt\",\n",
    "    \"2009092303055_dikt_split.txt\"]\n",
    "ikke_ennå = []\n",
    "\n",
    "for f in p.iterdir():\n",
    "    textfile = f / f\"{f.name}_dikt_split.txt\"\n",
    "    if textfile.exists():\n",
    "        if textfile.name in bra_kvalitet:\n",
    "            ikke_ennå.append(textfile.name)\n",
    "ikke_ennå\n"
   ]
  },
  {
   "cell_type": "markdown",
   "metadata": {},
   "source": [
    "## Sjekk at diktene er delt opp i små nok biter (og tell linjer)"
   ]
  },
  {
   "cell_type": "code",
   "execution_count": 7,
   "metadata": {
    "scrolled": true
   },
   "outputs": [
    {
     "name": "stdout",
     "output_type": "stream",
     "text": [
      "2009090403003_dikt_split.txt\n",
      "Du har vel aldrig hørt om Landet Norge,\n",
      "Det skarpe Spiir i Nordens Hovedkrands,\n",
      "Det underlige Land, hvis sære Borge\n",
      "Staae som en Formuur, svøbt i Nordlysglands,\n",
      "Om Polens gamle, frygtelige Gaade.\n",
      "Der er jeg født. For Drengens unge Sands\n",
      "Laae Fædrehjemmets vilde Former mægtigt\n",
      "Og ægged ham med ukjendt Stimulants,\n",
      "Og speiled sig med Gysen i hans vaade,\n",
      "Hans drømmerige Blik. Naar Havet vægtigt\n",
      "Og skummende slog mod den steengraa Kyst,\n",
      "Naar Bræens blanke Tinde brændte prægtigt\n",
      "Om Aftenen, mens Alt var mørkt og tyst –\n",
      "Naar Graneskoven sukked, og de kaade\n",
      "Vandhvirvler styrted sig i Fossens Dyst –\n",
      "Da tyktes mig, som om jeg skulde raade\n",
      "De dunkle Runer paa Naturens Bryst.\n",
      "\n",
      "\n",
      "[('2009090403003_dikt_split.txt', [17])]\n",
      "43290\n"
     ]
    }
   ],
   "source": [
    "from pathlib import Path\n",
    "np = Path(\"dikt_split\")\n",
    "\n",
    "dikt_start = \"#---START---#\"\n",
    "dikt_slutt = \"#---SLUTT---#\"\n",
    "\n",
    "a = list(np.iterdir())\n",
    "alle_linjene = 0\n",
    "ler = {}\n",
    "for x in a:\n",
    "    with x.open() as f:\n",
    "        content = f.read()\n",
    "        if content.startswith(\"dårlig kvalitet\"):\n",
    "            continue\n",
    "        s = content.split(dikt_start)\n",
    "        diktene = [d.split(dikt_slutt)[0] for d in s if len(d.split(dikt_slutt))>1]\n",
    "        for dikt in diktene:\n",
    "            bitene = dikt.split(\"\\n\\n\")\n",
    "            for bit in bitene:\n",
    "                linjebiter = bit.split(\"\\n\")\n",
    "                l = len(linjebiter)\n",
    "                alle_linjene+=l\n",
    "                if l > 16:\n",
    "                    print(x.name)\n",
    "                    print(bit)\n",
    "                    print(\"\\n\")\n",
    "                    \n",
    "                    if x.name in ler:\n",
    "                        ler[x.name].append(l)\n",
    "                    else:\n",
    "                        ler[x.name] = [l]\n",
    "\n",
    "\n",
    "for k, v in ler.items():\n",
    "    v.sort(reverse=True)\n",
    "\n",
    "H = sorted(ler.items(), key=lambda x: x[1][0], reverse=True)\n",
    "print(H)\n",
    "\n",
    "# 3355 sonater / 40260 linjer i deep-speare\n",
    "# rhyme-gan = deep-speare + \n",
    "\n",
    "print(alle_linjene)"
   ]
  },
  {
   "cell_type": "markdown",
   "metadata": {},
   "source": [
    "## Flytt diktbitene til ny mappe"
   ]
  },
  {
   "cell_type": "code",
   "execution_count": 16,
   "metadata": {},
   "outputs": [],
   "source": [
    "from pathlib import Path\n",
    "\n",
    "p = Path(\"dikt_split\")\n",
    "np = Path(\"poems\")\n",
    "\n",
    "dikt_start = \"#---START---#\"\n",
    "dikt_slutt = \"#---SLUTT---#\"\n",
    "\n",
    "alle_linjene = 0\n",
    "ler = {}\n",
    "for x in p.iterdir():\n",
    "    with x.open() as f:\n",
    "        content = f.read()\n",
    "        if content.startswith(\"dårlig kvalitet\"):\n",
    "            continue\n",
    "        s = content.split(dikt_start)\n",
    "        diktene = [d.split(dikt_slutt)[0] for d in s if len(d.split(dikt_slutt))>1]\n",
    "        for i, dikt in enumerate(diktene):\n",
    "            newfile = np / f\"{x.name}_{i+1}.txt\"\n",
    "            with open(newfile, \"w+\") as f:\n",
    "                    f.write(dikt)"
   ]
  },
  {
   "cell_type": "markdown",
   "metadata": {},
   "source": [
    "## Tell antall dikt"
   ]
  },
  {
   "cell_type": "code",
   "execution_count": 17,
   "metadata": {},
   "outputs": [
    {
     "name": "stdout",
     "output_type": "stream",
     "text": [
      "776\n"
     ]
    }
   ],
   "source": [
    "from pathlib import Path\n",
    "\n",
    "p = Path(\"poems\")\n",
    "print(len(list(p.iterdir())))"
   ]
  },
  {
   "cell_type": "code",
   "execution_count": 8,
   "metadata": {},
   "outputs": [],
   "source": [
    "#---SLUTT---#\n",
    "\n",
    "#---START---#\n",
    "\n",
    "#dårlig kvalitet"
   ]
  },
  {
   "cell_type": "markdown",
   "metadata": {},
   "source": [
    "todo:\n",
    "\n",
    "telle dansk/nynorsk\n",
    "\n",
    "telle dårlig/bra kvalitet\n",
    "\n",
    "\n",
    "\n",
    "ikke rim/dårlig kvalitet:\n",
    "2013061308130_dikt_split.txt  \n",
    "2009063003017_dikt_split.txt  \n",
    "2013061308130_dikt_split.txt  \n",
    "2009063003017_dikt_split.txt  "
   ]
  }
 ],
 "metadata": {
  "kernelspec": {
   "display_name": "Python 3",
   "language": "python",
   "name": "python3"
  },
  "language_info": {
   "codemirror_mode": {
    "name": "ipython",
    "version": 3
   },
   "file_extension": ".py",
   "mimetype": "text/x-python",
   "name": "python",
   "nbconvert_exporter": "python",
   "pygments_lexer": "ipython3",
   "version": "3.8.10"
  }
 },
 "nbformat": 4,
 "nbformat_minor": 4
}
