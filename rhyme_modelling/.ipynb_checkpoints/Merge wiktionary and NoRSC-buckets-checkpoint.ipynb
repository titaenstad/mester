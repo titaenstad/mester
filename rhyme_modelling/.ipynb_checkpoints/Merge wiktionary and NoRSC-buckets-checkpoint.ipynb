{
 "cells": [
  {
   "cell_type": "code",
   "execution_count": 1,
   "id": "592a7f9b",
   "metadata": {},
   "outputs": [],
   "source": [
    "from collections import Counter\n",
    "import matplotlib.pyplot as plt\n",
    "import numpy as np\n",
    "import pickle"
   ]
  },
  {
   "cell_type": "code",
   "execution_count": 2,
   "id": "8277c19c",
   "metadata": {},
   "outputs": [],
   "source": [
    "with open('pickles/wiktionary_buckets_merge_almost_rhymes.pickle','rb') as f:\n",
    "    wikibuckets = pickle.load(f)"
   ]
  },
  {
   "cell_type": "code",
   "execution_count": 3,
   "id": "e45f625d",
   "metadata": {},
   "outputs": [],
   "source": [
    "with open(\"pickles/good_buckets.pickle\", \"rb\") as f:\n",
    "    good_buckets = pickle.load(f)\n",
    "    \n",
    "with open(\"pickles/manual_repair_buckets.pickle\", \"rb\") as f:\n",
    "    man_buckets = pickle.load(f)\n",
    "\n",
    "norsc_buckets = good_buckets + man_buckets"
   ]
  },
  {
   "cell_type": "markdown",
   "id": "e79a6414",
   "metadata": {},
   "source": [
    "# Vocab overlap between wiktionary and annotations"
   ]
  },
  {
   "cell_type": "code",
   "execution_count": 4,
   "id": "49ab5869",
   "metadata": {},
   "outputs": [
    {
     "name": "stdout",
     "output_type": "stream",
     "text": [
      "len(wikipedia_vocab) 1384\n",
      "len(annotations_vocab) 6290\n",
      "Vocab sizes added: 7674\n",
      "Vocab overlap: 114\n"
     ]
    }
   ],
   "source": [
    "with open(\"tsvs/wiktionary_pairs_vocab.tsv\") as f:\n",
    "    s1 = f.read()\n",
    "    \n",
    "with open(\"tsvs/annotation_pairs_vocab.tsv\") as f:\n",
    "    s2 = f.read()\n",
    "\n",
    "wikipedia_vocab = set(s1.split(\"\\t\"))\n",
    "    \n",
    "annotations_vocab = set(s2.split(\"\\t\"))\n",
    "\n",
    "vocab_sizes_added = len(wikipedia_vocab)+len(annotations_vocab)\n",
    "overlap = wikipedia_vocab.intersection(annotations_vocab)\n",
    "\n",
    "print(f\"len(wikipedia_vocab) {len(wikipedia_vocab)}\\nlen(annotations_vocab) {len(annotations_vocab)}\")\n",
    "print(f\"Vocab sizes added: {vocab_sizes_added}\")\n",
    "print(f\"Vocab overlap: {len(overlap)}\")\n",
    "\n",
    "\n",
    "# vocab.update(vocab_)\n",
    "# print(f\"Vocab overlap: {vocab_sizes_added-len(vocab)}\")\n",
    "# \"Number of unique words in combined vocab:\", len(vocab)"
   ]
  },
  {
   "cell_type": "markdown",
   "id": "f58ab35b",
   "metadata": {},
   "source": [
    "## Merge NoRSC-buckets into wiktionary-buckets"
   ]
  },
  {
   "cell_type": "code",
   "execution_count": 5,
   "id": "11157462",
   "metadata": {},
   "outputs": [
    {
     "data": {
      "text/plain": [
       "(27, 596)"
      ]
     },
     "execution_count": 5,
     "metadata": {},
     "output_type": "execute_result"
    }
   ],
   "source": [
    "len(wikibuckets), len(norsc_buckets)"
   ]
  },
  {
   "cell_type": "code",
   "execution_count": 6,
   "id": "46fa3762",
   "metadata": {},
   "outputs": [
    {
     "data": {
      "text/plain": [
       "{'skjønn': [5, 26],\n",
       " 'bli': [8, 578],\n",
       " 'le': [6, 571],\n",
       " 'gården': [12, 512],\n",
       " 'tid': [8, 576],\n",
       " 'tørn': [16, 217],\n",
       " 'sympati': [8, 578],\n",
       " 'gi': [8, 578],\n",
       " 'vil': [4, 3],\n",
       " 'fred': [6, 571],\n",
       " 'til': [4, 3],\n",
       " 'hul': [22, 154],\n",
       " 'stønn': [5, 26],\n",
       " 'harmoni': [8, 578],\n",
       " 'ski': [8, 578],\n",
       " 'meg': [6, 543],\n",
       " 'si': [8, 578],\n",
       " 'raseri': [8, 578],\n",
       " 'kort': [18, 593],\n",
       " 'kne': [6, 571],\n",
       " 'blid': [8, 576],\n",
       " 'nid': [8, 576],\n",
       " 'bil': [4, 3],\n",
       " 'be': [6, 571],\n",
       " 'med': [6, 571],\n",
       " 'deg': [6, 543],\n",
       " 'tyranni': [8, 578],\n",
       " 'sort': [18, 592],\n",
       " 'ned': [6, 571],\n",
       " 'hi': [8, 578],\n",
       " 'smil': [4, 3],\n",
       " 'mil': [4, 3],\n",
       " 'port': [2, 592],\n",
       " 'tort': [2, 593],\n",
       " 'perleport': [2, 592],\n",
       " 'lønn': [5, 26],\n",
       " 'parti': [8, 578],\n",
       " 'spill': [4, 3],\n",
       " 'det': [6, 571],\n",
       " 'gli': [8, 578],\n",
       " 'se': [6, 571],\n",
       " 'energi': [8, 578],\n",
       " 'ul': [22, 154],\n",
       " 've': [6, 571],\n",
       " 'hvil': [4, 3],\n",
       " 'il': [4, 3],\n",
       " 'fil': [4, 3],\n",
       " 'kjært': [1, 225],\n",
       " 'snert': [1, 494],\n",
       " 'seg': [6, 543],\n",
       " 'april': [4, 3],\n",
       " 'befri': [8, 578],\n",
       " 'dertil': [4, 3],\n",
       " 'skje': [6, 571],\n",
       " 'fort': [18, 592],\n",
       " 'stort': [2, 592],\n",
       " 'vill': [4, 3],\n",
       " 'ti': [8, 578],\n",
       " 'spe': [6, 571],\n",
       " 'bønn': [5, 26],\n",
       " 'glid': [8, 576],\n",
       " 'forbi': [8, 578],\n",
       " 'tvil': [4, 3],\n",
       " 'renkespill': [4, 3],\n",
       " 'fiskeørn': [16, 291],\n",
       " 'pil': [4, 3],\n",
       " 'verdt': [1, 225],\n",
       " 'skjul': [22, 154],\n",
       " 'jul': [22, 154],\n",
       " 'de': [8, 578],\n",
       " 'ved': [6, 571],\n",
       " 'kil': [4, 3],\n",
       " 'klokkespill': [4, 3],\n",
       " 'grønn': [5, 26],\n",
       " 'smul': [22, 154],\n",
       " 'drønn': [5, 26],\n",
       " 'fugl': [22, 154],\n",
       " 'bi': [8, 578],\n",
       " 'idé': [6, 571],\n",
       " 'bjørn': [16, 217],\n",
       " 'lært': [1, 225],\n",
       " 'bort': [2, 592],\n",
       " 'geni': [8, 578],\n",
       " 'søstersønn': [5, 26],\n",
       " 'litani': [8, 578],\n",
       " 'verdi': [8, 578],\n",
       " 'vi': [8, 578],\n",
       " 'nært': [1, 225],\n",
       " 'bre': [6, 571],\n",
       " 'fri': [8, 578],\n",
       " 'symfoni': [8, 578],\n",
       " 'brønn': [5, 26],\n",
       " 'melodi': [8, 578],\n",
       " 'ni': [8, 578],\n",
       " 'ørn': [16, 291],\n",
       " 'sønn': [5, 26],\n",
       " 'li': [8, 578],\n",
       " 'stri': [8, 578],\n",
       " 'sti': [8, 578],\n",
       " 'korn': [14, 465],\n",
       " 'horn': [14, 465],\n",
       " 'tre': [6, 571],\n",
       " 'kre': [6, 571],\n",
       " 'hvert': [1, 494],\n",
       " 'hjul': [22, 154]}"
      ]
     },
     "execution_count": 6,
     "metadata": {},
     "output_type": "execute_result"
    }
   ],
   "source": [
    "w_b = {}\n",
    "for w in overlap:\n",
    "    for i, b in enumerate(wikibuckets):\n",
    "        if w in b:\n",
    "            w_b[w] = [i]\n",
    "    for i, b in enumerate(norsc_buckets):\n",
    "        if w in b:\n",
    "            w_b[w].append(i)\n",
    "\n",
    "# if len=1 then the word is not in a norsc-bucket\n",
    "w_b = {w:b for w,b in w_b.items() if len(b) == 2}\n",
    "\n",
    "w_b"
   ]
  },
  {
   "cell_type": "code",
   "execution_count": 7,
   "id": "aa430318",
   "metadata": {},
   "outputs": [
    {
     "data": {
      "text/plain": [
       "(11, 15)"
      ]
     },
     "execution_count": 7,
     "metadata": {},
     "output_type": "execute_result"
    }
   ],
   "source": [
    "o_b1, o_b2 = zip(*w_b.values())\n",
    "s_ob1 = set(o_b1)\n",
    "s_ob2 = set(o_b2)\n",
    "len(s_ob1), len(s_ob2)"
   ]
  },
  {
   "cell_type": "code",
   "execution_count": 8,
   "id": "111a15c0",
   "metadata": {
    "scrolled": true
   },
   "outputs": [
    {
     "data": {
      "text/plain": [
       "({1, 2, 4, 5, 6, 8, 12, 14, 16, 18, 22},\n",
       " {3, 26, 154, 217, 225, 291, 465, 494, 512, 543, 571, 576, 578, 592, 593})"
      ]
     },
     "execution_count": 8,
     "metadata": {},
     "output_type": "execute_result"
    }
   ],
   "source": [
    "s_ob1, s_ob2"
   ]
  },
  {
   "cell_type": "code",
   "execution_count": 9,
   "id": "5de10500",
   "metadata": {},
   "outputs": [
    {
     "data": {
      "text/plain": [
       "597"
      ]
     },
     "execution_count": 9,
     "metadata": {},
     "output_type": "execute_result"
    }
   ],
   "source": [
    "not_overlap_wikibuckets = [i for i,b in enumerate(wikibuckets) if i not in o_b1]\n",
    "not_overlap_norsc_buckets = [i for i,b in enumerate(norsc_buckets) if i not in o_b2]\n",
    "len(not_overlap_wikibuckets) + len(not_overlap_norsc_buckets)"
   ]
  },
  {
   "cell_type": "code",
   "execution_count": 10,
   "id": "45137332",
   "metadata": {
    "scrolled": false
   },
   "outputs": [
    {
     "data": {
      "text/plain": [
       "{'5': {26},\n",
       " '8': {576, 578},\n",
       " '6': {543, 571},\n",
       " '12': {512},\n",
       " '16': {217, 291},\n",
       " '4': {3},\n",
       " '22': {154},\n",
       " '18': {592, 593},\n",
       " '2': {592, 593},\n",
       " '1': {225, 494},\n",
       " '14': {465}}"
      ]
     },
     "execution_count": 10,
     "metadata": {},
     "output_type": "execute_result"
    }
   ],
   "source": [
    "merges = {}\n",
    "\n",
    "for i1, i2 in w_b.values():\n",
    "    i1 = str(i1)\n",
    "    put = False\n",
    "    if i1 in merges:\n",
    "        merges[i1].add(i2)\n",
    "    else:\n",
    "        merges[i1] = {i2}\n",
    "merges"
   ]
  },
  {
   "cell_type": "code",
   "execution_count": 11,
   "id": "60284403",
   "metadata": {},
   "outputs": [
    {
     "data": {
      "text/plain": [
       "({('18', '2')}, ['5', '8', '6', '12', '16', '4', '22', '1', '14'])"
      ]
     },
     "execution_count": 11,
     "metadata": {},
     "output_type": "execute_result"
    }
   ],
   "source": [
    "conflicts = set()\n",
    "no_conflicts = []\n",
    "\n",
    "for k, v in merges.items():\n",
    "    conf = {k}\n",
    "    for k2, v2 in merges.items():\n",
    "        if k == k2:\n",
    "            continue\n",
    "        for e in v:\n",
    "            for e2 in v2:\n",
    "                if e == e2:\n",
    "                    conf.add(k2)\n",
    "    if len(conf) > 1:\n",
    "        l = list(conf)\n",
    "        l.sort()\n",
    "        conflicts.add(tuple(l))\n",
    "    else:\n",
    "        no_conflicts.append(k)\n",
    "conflicts, no_conflicts"
   ]
  },
  {
   "cell_type": "code",
   "execution_count": 12,
   "id": "86c63679",
   "metadata": {
    "scrolled": true
   },
   "outputs": [
    {
     "name": "stdout",
     "output_type": "stream",
     "text": [
      "Choice 0:\n",
      "['fort', 'knort', 'kort', 'skort', 'sort', 'sport', 'abort', 'apport', 'bordkort', 'dåhjort', 'eksport', 'firkort', 'frikort', 'gangsport', 'hullkort', 'import', 'jaktkort', 'kampsport', 'knekort', 'kohort', 'kronhjort', 'lårkort', 'postkort', 'rapport', 'seisport', 'skisport', 'smartkort', 'spillkort', 'transport', 'travsport', 'trumfkort', 'vannsport', 'vognkort', 'adgangskort', 'adressekort', 'boardingkort', 'ekstremsport', 'fanekort', 'fiskekort', 'flytransport', 'forseggjort', 'førerkort', 'gavekort', 'girokort', 'helsesport', 'hestesport', 'hundesport', 'ID-kort', 'julekort', 'kajakksport', 'kjøpekort', 'klatresport', 'klippekort', 'kontantkort', 'kredittkort', 'langtransport', 'lånekort', 'magnetkort', 'medlemskort', 'moskushjort', 'månedskort', 'nøkkelkort', 'pressekort', 'sesongkort', 'sikahjort', 'sjøtransport', 'skattekort', 'tarotkort', 'tungtransport', 'ukekort', 'vintersport', 'visittkort', 'fangetransport', 'flerreisekort', 'garantikort', 'kartotekkort', 'sjuketransport', 'syketransport', 'teatersport', 'tilstandsrapport', 'troppetransport', 'undervannssport', 'varetransport', 'identitetskort', 'innbetalingskort', 'kapitaleksport', 'situasjonsrapport']\n",
      "\n",
      "Choice 1:\n",
      "['bort', 'hjort', 'lort', 'mort', 'ort', 'port', 'tort', 'avgjort', 'brennfort', 'breport', 'byport', 'frigjort', 'halvgjort', 'lynfort', 'oppgjort', 'selvgjort', 'sjølgjort', 'tilgjort', 'ugjort', 'unnagjort', 'utgjort', 'velgjort', 'gitterport', 'hjemmegjort', 'innfallsport', 'lenseport', 'mageport', 'muselort', 'perleport', 'pipelort', 'skoleport', 'slalåmport', 'sluseport', 'uavgjort', 'uoppgjort', 'utfallsport', 'utgangsport', 'vippeport', 'garasjeport', 'vertikalport', 'dort', 'fôrt', 'glort', 'klort', 'mort', 'stort', 'tjort', 'sonort']\n",
      "\n",
      "['bort', 'stort', 'port', 'gjort', 'fort', 'sort', 'perleport']\n",
      "Which choice is bettter for above bucket?\n",
      "1\n",
      "['tort', 'vårt', 'kort', 'hårdt']\n",
      "Which choice is bettter for above bucket?\n",
      "0\n",
      "-\n",
      "\n"
     ]
    }
   ],
   "source": [
    "merged = []\n",
    "not_merged = []\n",
    "\n",
    "for e in conflicts:\n",
    "    b_ix = set()\n",
    "    \n",
    "    for i, k in enumerate(e):\n",
    "        print(f\"Choice {i}:\")\n",
    "        print(wikibuckets[int(k)])\n",
    "        print(\"\")\n",
    "        b_ix.update(set(merges[k]))\n",
    "    \n",
    "    \n",
    "    for i in b_ix:\n",
    "        print(norsc_buckets[i])\n",
    "        choice = int(input(\"Which choice is bettter for above bucket?\\n\"))\n",
    "        if choice == -1:\n",
    "            not_merged.append(i)\n",
    "        else:\n",
    "            merged.append((e[choice], i))\n",
    "    print(\"-\\n\")"
   ]
  },
  {
   "cell_type": "code",
   "execution_count": 13,
   "id": "3191b25b",
   "metadata": {},
   "outputs": [
    {
     "data": {
      "text/plain": [
       "[('2', 592), ('18', 593)]"
      ]
     },
     "execution_count": 13,
     "metadata": {},
     "output_type": "execute_result"
    }
   ],
   "source": [
    "merged"
   ]
  },
  {
   "cell_type": "code",
   "execution_count": 14,
   "id": "cc06529c",
   "metadata": {},
   "outputs": [
    {
     "name": "stdout",
     "output_type": "stream",
     "text": [
      "Bucket 5:\n",
      "['føn', 'gjøn', 'kjøn', 'skrøn', 'obskøn', 'vestrøn', 'brønn', 'bønn', 'drønn', 'dønn', 'grønn', 'kjønn', 'lønn', 'skjønn', 'stønn', 'sønn', 'norrøn', 'bordbønn', 'bregrønn', 'brorsønn', 'daglønn', 'grunnlønn', 'gudsønn', 'hankjønn', 'hannkjønn', 'hunkjønn', 'hunnkjønn', 'irrgrønn', 'isgrønn', 'kveldsbønn', 'lysgrønn', 'mintgrønn', 'sjøgrønn', 'stesønn', 'topplønn', 'uskjønn', 'værsønn', 'våbønn', 'vårgrønn', 'aftenbønn', 'akkordlønn', 'arbeidslønn', 'bergelønn', 'bergingslønn', 'bildeskjønn', 'billedskjønn', 'borgerlønn', 'dattersønn', 'dikterlønn', 'eierlønn', 'etterlønn', 'eviggrønn', 'felleskjønn', 'finnerlønn', 'fostersønn', 'gudesønn', 'gursegrønn', 'intetkjønn', 'kirkebønn', 'kvinnekjønn', 'likelønn', 'luselønn', 'lysegrønn', 'menneskesønn', 'minstelønn', 'morgenbønn', 'mosegrønn', 'mørkegrønn', 'månedslønn', 'normallønn', 'oljebrønn', 'omsorgslønn', 'overskjønn', 'premielønn', 'reallønn', 'sjukelønn', 'sykelønn', 'smaragdgrønn', 'sultelønn', 'svigersønn', 'sønnesønn', 'søstersønn', 'timelønn', 'ukelønn', 'underskjønn', 'ventelønn', 'vintergrønn', 'vippebrønn', 'olivengrønn', 'prestasjonslønn']\n",
      "\n",
      "['Menneskesønn', 'grønn', 'smerte-stønn', 'brønn', 'lønn', 'bønn', 'tjønn', 'sønn', 'skjønn', 'Ølversønn', 'seierslønn', 'søstersønn', 'stønn', 'smertensstønn', 'smertestønn', 'drønn', 'historiedønn']\n",
      "Merge this bucket with bucket 5? [y/n] \n",
      "\n",
      "y\n",
      "\n",
      "-\n",
      "\n",
      "Bucket 8:\n",
      "['bi', 'bli', 'blid', 'de', 'di', 'fli', 'fri', 'gi', 'gli', 'glid', 'gni', 'hi', 'hvi', 'kli', 'kvi', 'li', 'mi', 'ni', 'nid', 'pi', 'pli', 'ri', 'si', 'sid', 'ski', 'skli', 'skri', 'sli', 'smi', 'spri', 'sti', 'stri', 'svi', 'tee', 'ti', 'tid', 'tvi', 'vi', 'vid', 'vri', 'bi', 'bli', 'blid', 'di', 'fli', 'fri', 'frid', 'gi', 'gli', 'glid', 'gni', 'hi', 'kli', 'kri', 'kvi', 'li', 'mi', 'ni', 'nid', 'pi', 'pli', 'ri', 'si', 'sid', 'ski', 'skli', 'skri', 'sli', 'smi', 'spri', 'sti', 'stri', 'svi', 'tee', 'ti', 'tid', 'tri', 'tvi', 'vi', 'vid', 'vri', 'amfi', 'befri', 'begi', 'espri', 'esprit', 'fobi', 'forbi', 'fordi', 'forgi', 'geni', 'kjemi', 'kopi', 'losji', 'magi', 'maki', 'maquis', 'mani', 'marki', 'parti', 'regi', 'sorti', 'verdi', 'av di', 'espri', 'esprit', 'fobi', 'forbi', 'fordi', 'for di', 'forgi', 'forvri', 'geni', 'kjemi', 'kopi', 'magi', 'mani', 'med di', 'parti', 'prosti', 'regi', 'sorti', 'verdi', 'afasi', 'agoni', 'alali', 'alibi', 'anemi', 'apati', 'atypi', 'elegi', 'etui', 'ironi', 'myopi', 'onani', 'poesi', 'sakristi', 'teori', 'utopi', 'abbedi', 'afasi', 'agrafi', 'agoni', 'akademi', 'akribi', 'alali', 'aleksi', 'alibi', 'alkali', 'alkymi', 'allergi', 'amnesi', 'amnesti', 'analogi', 'anarki', 'anatomi', 'anemi', 'anomali', 'apogami', 'apologi', 'arytmi', 'asteni', 'atrofi', 'atypi', 'autarki', 'autopsi', 'bakeri', 'barbari', 'baroni', 'batteri', 'bifili', 'bigami', 'binderi', 'biopsi', 'broderi', 'bryderi', 'bulimi', 'cøliaki', 'deponi', 'despoti', 'difteri', 'dimorfi', 'dioptri', 'draperi', 'drogeri', 'dynasti', 'dystopi', 'elegi', 'empati', 'empiri', 'endemi', 'energi', 'entalpi', 'epidemi', 'etologi', 'etui', 'eufori', 'faktori', 'fantasi', 'fargeri', 'farmasi', 'fiskeri', 'flåseri', 'frenesi', 'frieri', 'fryseri', 'galleri', 'garanti', 'garveri', 'godteri', 'griseri', 'guarani', 'harmoni', 'havari', 'hekseri', 'heleri', 'heresi', 'horeri', 'hoveri', 'hykleri', 'hysteri', 'hønseri', 'høvleri', 'idioti', 'inerti', 'infami', 'ironi', 'jåleri', 'kalori', 'kantori', 'kirurgi', 'kleresi', 'kokeri', 'koloni', 'kompani', 'kåseri', 'leukemi', 'levkemi', 'litani', 'liturgi', 'lotteri', 'lureri', 'meieri', 'melodi', 'modneri', 'mogneri', 'monarki', 'myalgi', 'myopi', 'mytteri', 'måleri', 'narreri', 'onani', 'osteri', 'otiatri', 'pakkeri', 'pandemi', 'parodi', 'plageri', 'politi', 'poesi', 'profeti', 'prosodi', 'pyemi', 'rapsodi', 'raseri', 'rimeri', 'sakristi', 'salami', 'salteri', 'sceneri', 'seneri', 'selleri', 'simoni', 'sjalusi', 'slaveri', 'sliperi', 'sløseri', 'sodomi', 'svineri', 'symfoni', 'sympati', 'synergi', 'tapperi', 'teori', 'terapi', 'tjuveri', 'trilogi', 'tyranni', 'tørkeri', 'uremi', 'utopi', 'vaskeri', 'veveri', 'ysteri', 'zoologi', 'biologi', 'teologi', 'biologi', 'geodesi', 'geologi', 'otologi', 'teologi', 'teosofi', 'ufologi', 'urologi', 'zoologi', 'økologi', 'økonomi', 'ønologi']\n",
      "\n",
      "['id', 'Madrid', 'nid', 'nattetid', 'blid', 'strid', 'glid', 'rid', 'Wergelands-rid', 'tid', 'splid', 'flid']\n",
      "Merge this bucket with bucket 8? [y/n] \n",
      "\n",
      "n\n",
      "['bølgeaktig', 'li', 'sti', 'nattelosji', 'fril', 'ti', 'stri', 'bergeli', 'ni', 'si', 'selv-ironi', 'forbi', 'deri', 'fri', 'bli', 'litani', 'tidlig', 'hi', 'gi', 'vi', 'raseri', 'sympati', 'befri', 'gli', 'melodi', 'harmoni', 'vane-gjengeri', 'knusleri', 'tyranni', 'vis-à-vis', 'arbeidsbi', 'bi', 'symfoni', 'trylleri', 'de', 'parti', 'kirkesti', 'energi', 'verdi', 'svermeri', 'geni', 'fremtidssti', 'Lie', 'vinterhi', 'sommersti', 'ski', 'i', 'kogleri']\n",
      "Merge this bucket with bucket 8? [y/n] \n",
      "\n",
      "y\n",
      "\n",
      "-\n",
      "\n",
      "Bucket 6:\n",
      "['be', 'ble', 'bre', 'det', 'fe', 'fred', 'gre', 'kje', 'kle', 'kne', 'kre', 'kve', 'le', 'med', 'ne', 'ned', 'pre', 're', 'se', 'skje', 'spe', 'ste', 'sve', 'te', 'tre', 've', 'ved', 'be', 'ble', 'bre', 'det', 'fe', 'fred', 'gje', 'gle', 'kje', 'kle', 'kne', 'kre', 'kve', 'le', 'me', 'med', 'ne', 'ned', 'pre', 're', 'skje', 'spe', 'ste', 'sve', 'tre', 've', 'ved', 'deg', 'eg', 'meg', 'seg', 'CD', 'cd', 'diskre', 'diskré', 'idet', 'i det', 'ide', 'idé', 'passe', 'passé', 'CD', 'cd', 'diskre', 'diskré', 'idet', 'i det', 'idé', 'ide', 'passé', 'passe', 'kabaret', 'kabaret']\n",
      "\n",
      "['le', 'sne', 'spe', 'vé', 'ved', 'skred', 'det', 'ed', 'kne', 'med', 'idé', 'strålefjed', 'arnested', 'herned', 'kjed', 'armé', 'geled', 'bibelsted', 'fred', 'juletre', 'Se', 'arbeidsfred', 'blomsterbed', 've', 'hvilested', 'sved', 'sed', 'kre', 'offersted', 'herved', 'sted', 'avste', 'stred', 'moské', 'bred', 'vadested', 'kjærlighed', 'ned', 'tre', 'led', 'kafé', 'sovekupé', 'be', 'fortred', 'sped', 'se', 'beskjed', 'bed', 'smed', 'bre', 'Nudetre', 'vinter-sne', 'fjed', 'galgetre', 'skje', 'opstandelse', 'bered', 'varieté', 'kildested', 'avsted', 'sæd', 'kafe', 'frelsesarmé', 'gled', 'derved', 'vred']\n",
      "Merge this bucket with bucket 6? [y/n] \n",
      "\n",
      "y\n",
      "['snei', 'sanger-vei', 'veg', 'alfarveg', 'vei', 'meg', 'næringsvei', 'ei', 'seg', 'kirke-vei', 'Pompei', 'jeg', 'jordbærhei', 'steg', 'grei', 'aftenvei', 'lei', 'nei', 'deg', 'vuggemei', 'kontrafei', 'Nei', 'kirkeveg', 'hei']\n",
      "Merge this bucket with bucket 6? [y/n] \n",
      "\n",
      "n\n",
      "\n",
      "-\n",
      "\n",
      "Bucket 12:\n",
      "['gården', 'tårn', 'fyrtårn', 'kruttårn', 'vakttårn', 'vanntårn', 'vasstårn', 'boretårn', 'dommertårn', 'kirkegården', 'kirketårn', 'kjøletårn', 'kontrolltårn', 'utkikkstårn', 'elfenbeinstårn']\n",
      "\n",
      "['skåren', 'utkåren', 'morgen', 'gården', 'våren', 'båren']\n",
      "Merge this bucket with bucket 12? [y/n] \n",
      "\n",
      "y\n",
      "\n",
      "-\n",
      "\n",
      "Bucket 16:\n",
      "['bjørn', 'tørn', 'ørn', 'brunbjørn', 'grasbjørn', 'gråbjørn', 'halvbjørn', 'havørn', 'hvitbjørn', 'isbjørn', 'kvitbjørn', 'mannbjørn', 'pungbjørn', 'rortørn', 'rundtørn', 'slagbjørn', 'trebjørn', 'vakttørn', 'bambusbjørn', 'fiskeørn', 'grizzlybjørn', 'kattebjørn', 'kodiakbjørn', 'kongeørn', 'skadebjørn', 'teddybjørn', 'vaskebjørn', 'alaskabjørn']\n",
      "\n",
      "['sognebørn', 'Ørn', 'himmelørn', 'tørn', 'bjørn']\n",
      "Merge this bucket with bucket 16? [y/n] \n",
      "\n",
      "y\n",
      "['ørn', 'fiskeørn', 'tjørn', 'børn']\n",
      "Merge this bucket with bucket 16? [y/n] \n",
      "\n",
      "y\n",
      "\n",
      "-\n",
      "\n",
      "Bucket 4:\n",
      "['bil', 'fil', 'hvil', 'kil', 'kvil', 'mil', 'pil', 'ril', 'sil', 'smil', 'stil', 'tvil', 'april', 'baufil', 'bifil', 'bobil', 'brannbil', 'bruktbil', 'bubil', 'bussfil', 'eksil', 'elbil', 'febril', 'femmil', 'fertil', 'fissil', 'fossil', 'fragil', 'fristil', 'futil', 'gentil', 'grasil', 'habil', 'isbil', 'ispil', 'kantfil', 'klusil', 'konsil', 'kranbil', 'kvartmil', 'labil', 'livsstil', 'missil', 'mobil', 'profil', 'reptil', 'senil', 'servil', 'sivil', 'sjømil', 'skantil', 'snøbil', 'sportsbil', 'stabil', 'stensil', 'steril', 'strøbil', 'subtil', 'sølvpil', 'taktil', 'tamil', 'tankbil', 'tekstil', 'tesil', 'tråbil', 'vigil', 'viril', 'anglofil', 'augursmil', 'barokkstil', 'beltebil', 'brøytebil', 'campingbil', 'dragestil', 'drakestil', 'drosjebil', 'drømmemil', 'firmabil', 'fiskebil', 'frankofil', 'frysebil', 'funkisstil', 'halofil', 'heterofil', 'homofil', 'hovedstil', 'hybridbil', 'hydrofil', 'imbesil', 'immobil', 'infantil', 'inhabil', 'instabil', 'jugendstil', 'kjølebil', 'kjørefil', 'kombibil', 'konebil', 'kontraktil', 'lastebil', 'leiebil', 'luksusbil', 'melkebil', 'merkantil', 'middagshvil', 'middagskvil', 'minibil', 'mjølkebil', 'neglefil', 'olabil', 'panserbil', 'pedofil', 'personbil', 'privatbil', 'prosjektil', 'racerbil', 'radiobil', 'reserbil', 'rutebil', 'sagastil', 'servicebil', 'sjukebil', 'skolestil', 'slavofil', 'spillestil', 'stigebil', 'sykebil', 'søppelbil', 'sørvisbil', 'ustabil', 'varebil', 'versatil', 'volatil', 'xenofil', 'ørepil', 'anemofil', 'ansiktsprofil', 'automobil', 'avløpsventil', 'bibliofil', 'eventyrstil', 'fortellerstil', 'kuleventil', 'lapidarstil', 'lokomobil', 'patruljebil', 'rokokkostil', 'rundbogestil', 'rundbuestil', 'sikringsventil', 'utleiebil', 'vegetabil', 'veteranbil', 'ambulansebil', 'amfibiebil', 'sikkerhetsventil', 'dill', 'drill', 'grill', 'hill', 'il', 'ill', 'krill', 'pill', 'skill', 'snill', 'spill', 'still', 'svill', 'til', 'trill', 'tvill', 'vil', 'vill', 'ballspill', 'basill', 'bestill', 'blottstill', 'borttil', 'brettspill', 'dagvill', 'dertil', 'dragspill', 'dumsnill', 'døgnvill', 'festspill', 'forspill', 'forvill', 'framspill', 'framstill', 'fraskill', 'fremspill', 'fremstill', 'fristill', 'gangspill', 'goodwill', 'grunnspill', 'henspill', 'henstill', 'hittil', 'husvill', 'innbill', 'innspill', 'innstill', 'inntil', 'jamstill', 'kortspill', 'krigsspill', 'likestill', 'lystspill', 'mandrill', 'midtskill', 'motspill', 'munnspill', 'nullstill', 'omspill', 'omstill', 'opptil', 'ordspill', 'papill', 'paskvill', 'pastill', 'postill', 'pupill', 'refill', 'rollespill', 'rådvill', 'samspill', 'sigill', 'skråstill', 'sluttspill', 'svartstill', 'tonsill', 'trekkspill', 'tverrstill', 'utskill', 'utspill', 'veggspill', 'vegvill', 'vingspill', 'ankerspill', 'attpåtil', 'banjospill', 'brikkespill', 'dertil', 'dobbeltspill', 'eiesnill', 'ellevill', 'endatil', 'endetil', 'etterspill', 'flipperspill', 'forestill', 'gjennomspill', 'gjestespill', 'gjøglerspill', 'halspastill', 'hasardspill', 'hertil', 'huspostill', 'hørespill', 'kjeglespill', 'klokkespill', 'kodisill', 'liketil', 'mellomspill', 'minespill', 'musikkspill', 'nedatil', 'nedentil', 'ovatil', 'oventil', 'overspill', 'pasjonsspill', 'pasningsspill', 'pikelill', 'pokerspill', 'puslespill', 'renkespill', 'sammenstill', 'satyrspill', 'sidestill', 'sjansespill', 'skuespill', 'skyggespill', 'solospill', 'stundomtil', 'syngespill', 'sørgespill', 'takomtil', 'taskenspill', 'terningspill', 'tilfredsstill', 'totospill', 'varpespill', 'vekselspill', 'videospill', 'vågespill', 'fiolinspill', 'forhåndsbestill', 'intrigespill', 'leprabasill', 'tilbakespill', 'difteribasill', 'gladiatorspill', 'pyramidespill']\n",
      "\n",
      "['spill', 'kil', 'klokkespill', 'till', 'pistil', 'narrespill', 'dertil', 'renkespill', 'april', 'harpespill', 'fil', 'apespill', 'arbeidshvil', 'il', 'til', 'solgangsild', 'ild', 'vil', 'mild', 'sommermild', 'fargespill', 'hvil', 'tvil', 'mil', 'sild', 'fløytespill', 'bil', 'ørkenild', 'pil', 'vill', 'morraspill', 'strengespill', 'flammespill', 'smil', 'offerild', 'bølgespill']\n",
      "Merge this bucket with bucket 4? [y/n] \n",
      "\n"
     ]
    },
    {
     "name": "stdout",
     "output_type": "stream",
     "text": [
      "y\n",
      "\n",
      "-\n",
      "\n",
      "Bucket 22:\n",
      "['bul', 'fugl', 'ful', 'gul', 'hjul', 'hul', 'jul', 'kul', 'mul', 'pul', 'skjul', 'skul', 'smul', 'ul', 'bakhjul', 'blågul', 'branngul', 'burfugl', 'drivhjul', 'efugl', 'flyttfugl', 'forhjul', 'frihjul', 'geirfugl', 'gullfugl', 'hannfugl', 'hunnfugl', 'innhul', 'isfugl', 'kamhjul', 'korngul', 'kramsfugl', 'kveldfugl', 'lysgul', 'mørkgul', 'orrfugl', 'paillegul', 'påfugl', 'ravgul', 'romjul', 'rovfugl', 'sangfugl', 'sjøfugl', 'skaufugl', 'skogfugl', 'skogsfugl', 'skovlhjul', 'småfugl', 'spellfugl', 'spillfugl', 'stormfugl', 'strandfugl', 'streiffugl', 'svingjul', 'tannhjul', 'trekkfugl', 'urfugl', 'vannfugl', 'vannhjul', 'vassfugl', 'vasshjul', 'vognhjul', 'vognskjul', 'ærfugl', 'alkefugl', 'andefugl', 'fengselsfugl', 'friksjonshjul', 'galgenfugl', 'gjertrudsfugl', 'gursegul', 'hermefugl', 'hønsefugl', 'kråkefugl', 'landingshjul', 'lokkefugl', 'lundefugl', 'lykkehjul', 'lysegul', 'mellomjul', 'moafugl', 'morgenfugl', 'måkefugl', 'måsefugl', 'møllehjul', 'mørkegul', 'okergul', 'praktærfugl', 'raklefugl', 'rokkehjul', 'safrangul', 'sennepsgul', 'skalkeskjul', 'sommerfugl', 'spurvefugl', 'spøkefugl', 'svømmefugl', 'tranefugl', 'trompetfugl', 'tropikfugl', 'trostefugl', 'tvillinghjul', 'uværsfugl', 'vadefugl', 'vernefugl', 'veverfugl', 'åtselfugl', 'balansehjul', 'dagsommerfugl', 'kanarifugl', 'kålsommerfugl', 'nattsommerfugl', 'overfallshjul', 'paradisfugl', 'pariserhjul', 'ulykkesfugl', 'neslesommerfugl', 'sitronsommerfugl', 'apollosommerfugl']\n",
      "\n",
      "['jul', 'ul', 'fugl', 'smul', 'hjul', 'hul', 'skjul']\n",
      "Merge this bucket with bucket 22? [y/n] \n",
      "\n",
      "y\n",
      "\n",
      "-\n",
      "\n",
      "Bucket 1:\n",
      "['bært', 'fælt', 'gjært', 'hælt', 'kjælt', 'kjært', 'lært', 'mælt', 'nært', 'pelt', 'pælt', 'skvært', 'spjært', 'sælt', 'sært', 'tært', 'vrælt', 'begjært', 'besnært', 'besvært', 'erklært', 'ernært', 'faglært', 'formælt', 'fortært', 'forært', 'fåmælt', 'innlært', 'lavmælt', 'påkjært', 'selvlært', 'sjøllært', 'tillært', 'ulært', 'unnvært', 'utlært', 'uttært', 'vanært', 'velnært', 'underernært', 'ert', 'fert', 'fjert', 'hvert', 'knert', 'pert', 'snert', 'spjert', 'stjert', 'tvert', 'verdt', 'vert', 'vært', 'ekspert', 'ethvert', 'husvert', 'inert', 'konsert', 'krovert', 'rødstjert', 'ekstrovert', 'introvert', 'piskesnert', 'silkestjert', 'sukkerert', 'svepesnert', 'pipekonsert', 'ønskekonsert']\n",
      "\n",
      "['verdt', 'nært', 'kjært', 'svært', 'lært']\n",
      "Merge this bucket with bucket 1? [y/n] \n",
      "\n",
      "y\n",
      "['hvert', 'giftgass-ekspert', 'snert']\n",
      "Merge this bucket with bucket 1? [y/n] \n",
      "\n",
      "y\n",
      "\n",
      "-\n",
      "\n",
      "Bucket 14:\n",
      "['forn', 'horn', 'korn', 'thorn', 'torn', 'althorn', 'bilhorn', 'blandkorn', 'byggkorn', 'elghorn', 'gullkorn', 'haglkorn', 'hagtorn', 'hartkorn', 'jakthorn', 'kristtorn', 'krutthorn', 'lettkorn', 'liktorn', 'lyshorn', 'neshorn', 'popkorn', 'posthorn', 'skohorn', 'såkorn', 'valthorn', 'alpehorn', 'bukkehorn', 'drikkehorn', 'følehorn', 'hvetekorn', 'kefirkorn', 'lettekorn', 'nyptorn', 'pollenkorn', 'prillarhorn', 'sennepskorn', 'signalhorn', 'slåpetorn', 'tankekorn', 'fanfarehorn', 'overflødighetshorn']\n",
      "\n",
      "['korn', 'horn', 'nypetorn']\n",
      "Merge this bucket with bucket 14? [y/n] \n",
      "\n",
      "y\n",
      "\n",
      "-\n",
      "\n"
     ]
    }
   ],
   "source": [
    "for k in no_conflicts:\n",
    "    print(f\"Bucket {k}:\")\n",
    "    print(wikibuckets[int(k)])\n",
    "    print(\"\")\n",
    "    \n",
    "    b_ix = merges[k]\n",
    "    \n",
    "    for i in b_ix:\n",
    "        print(norsc_buckets[i])\n",
    "        print(f\"Merge this bucket with bucket {k}? [y/n] \\n\")\n",
    "        \n",
    "        choice = input()\n",
    "        \n",
    "        if choice == \"y\":\n",
    "            merged.append((k, i))\n",
    "        else:\n",
    "            not_merged.append(i)\n",
    "    print(\"\\n-\\n\")"
   ]
  },
  {
   "cell_type": "code",
   "execution_count": 15,
   "id": "2a58cc83",
   "metadata": {},
   "outputs": [
    {
     "data": {
      "text/plain": [
       "(15, 13, 2)"
      ]
     },
     "execution_count": 15,
     "metadata": {},
     "output_type": "execute_result"
    }
   ],
   "source": [
    "len(s_ob2), len(merged), len(not_merged) "
   ]
  },
  {
   "cell_type": "code",
   "execution_count": 16,
   "id": "0d5bc3e7",
   "metadata": {
    "scrolled": true
   },
   "outputs": [
    {
     "data": {
      "text/plain": [
       "[('2', 592),\n",
       " ('18', 593),\n",
       " ('5', 26),\n",
       " ('8', 578),\n",
       " ('6', 571),\n",
       " ('12', 512),\n",
       " ('16', 217),\n",
       " ('16', 291),\n",
       " ('4', 3),\n",
       " ('22', 154),\n",
       " ('1', 225),\n",
       " ('1', 494),\n",
       " ('14', 465)]"
      ]
     },
     "execution_count": 16,
     "metadata": {},
     "output_type": "execute_result"
    }
   ],
   "source": [
    "merged "
   ]
  },
  {
   "cell_type": "code",
   "execution_count": 17,
   "id": "82b435a3",
   "metadata": {},
   "outputs": [
    {
     "data": {
      "text/plain": [
       "[576, 543]"
      ]
     },
     "execution_count": 17,
     "metadata": {},
     "output_type": "execute_result"
    }
   ],
   "source": [
    "not_merged"
   ]
  },
  {
   "cell_type": "code",
   "execution_count": 18,
   "id": "bdcbab9e",
   "metadata": {},
   "outputs": [
    {
     "data": {
      "text/plain": [
       "13"
      ]
     },
     "execution_count": 18,
     "metadata": {},
     "output_type": "execute_result"
    }
   ],
   "source": [
    "merged_buckets = []\n",
    "\n",
    "for i1, i2 in merged:\n",
    "    b1 = set(wikibuckets[int(i1)])\n",
    "    b2 = norsc_buckets[i2]\n",
    "    b1.update(b2)\n",
    "    merged_buckets.append(b1)\n",
    "\n",
    "len(merged_buckets)"
   ]
  },
  {
   "cell_type": "code",
   "execution_count": 19,
   "id": "284eb5b0",
   "metadata": {},
   "outputs": [],
   "source": [
    "buckets = [wikibuckets[i] for i in not_overlap_wikibuckets] + [norsc_buckets[i] for i in not_overlap_norsc_buckets + not_merged] + merged_buckets"
   ]
  },
  {
   "cell_type": "code",
   "execution_count": 20,
   "id": "a4cdabed",
   "metadata": {
    "scrolled": false
   },
   "outputs": [
    {
     "name": "stdout",
     "output_type": "stream",
     "text": [
      "597 602\n",
      "\n",
      "Choice 0:\n",
      "['id', 'Madrid', 'nid', 'nattetid', 'blid', 'strid', 'glid', 'rid', 'Wergelands-rid', 'tid', 'splid', 'flid']\n",
      "\n",
      "Choice 1:\n",
      "{'osteri', 'fargeri', 'utopi', 'tørkeri', 'bli', 'tapperi', 'myopi', 'trilogi', 'sodomi', 'kli', 'tid', 'farmasi', 'despoti', 'sympati', 'magi', 'gi', 'fryseri', 'kjemi', 'geodesi', 'barbari', 'ønologi', 'dystopi', 'guarani', 'teologi', 'agrafi', 'vaskeri', 'sommersti', 'otiatri', 'teosofi', 'svermeri', 'rimeri', 'baroni', 'dimorfi', 'leukemi', 'sjalusi', 'tidlig', 'ski', 'harmoni', 'monarki', 'prosodi', 'svineri', 'kopi', 'fremtidssti', 'alali', 'si', 'maki', 'fantasi', 'inerti', 'raseri', 'vri', 'etui', 'for di', 'knusleri', 'kirkesti', 'atypi', 'tvi', 'fli', 'sid', 'teori', 'sløseri', 'ironi', 'garanti', 'ufologi', 'akademi', 'draperi', 'synergi', 'alibi', 'difteri', 'kokeri', 'blid', 'nid', 'levkemi', 'anarki', 'meieri', 'narreri', 'batteri', 'fordi', 'svi', 'allergi', 'salami', 'etologi', 'slaveri', 'tyranni', 'vid', 'kri', 'esprit', 'liturgi', 'hi', 'rapsodi', 'sakristi', 'agoni', 'dioptri', 'otologi', 'autarki', 'arytmi', 'mani', 'lureri', 'sorti', 'hysteri', 'di', 'pyemi', 'parti', 'asteni', 'frieri', 'idioti', 'gli', 'energi', 'apologi', 'bergeli', 'deri', 'alkali', 'bakeri', 'akribi', 'trylleri', 'ri', 'uremi', 'aleksi', 'veveri', 'drogeri', 'hoveri', 'skli', 'eufori', 'plageri', 'av di', 'salteri', 'myalgi', 'forgi', 'begi', 'bifili', 'bølgeaktig', 'vane-gjengeri', 'mytteri', 'pandemi', 'sceneri', 'sliperi', 'empati', 'befri', 'binderi', 'koloni', 'kogleri', 'regi', 'selleri', 'ysteri', 'bulimi', 'analogi', 'ti', 'apogami', 'faktori', 'amfi', 'anomali', 'forvri', 'maquis', 'frenesi', 'profeti', 'arbeidsbi', 'entalpi', 'mogneri', 'kantori', 'glid', 'griseri', 'forbi', 'med di', 'poesi', 'seneri', 'geologi', 'zoologi', 'tri', 'økonomi', 'atrofi', 'mi', 'havari', 'spri', 'afasi', 'onani', 'broderi', 'deponi', 'kompani', 'frid', 'fiskeri', 'apati', 'flåseri', 'de', 'lotteri', 'i', 'kirurgi', 'parodi', 'empiri', 'biopsi', 'prosti', 'epidemi', 'urologi', 'amnesi', 'godteri', 'abbedi', 'espri', 'bi', 'hykleri', 'måleri', 'kåseri', 'vis-à-vis', 'kvi', 'heleri', 'nattelosji', 'pli', 'terapi', 'biologi', 'tee', 'endemi', 'amnesti', 'geni', 'hekseri', 'hvi', 'simoni', 'anatomi', 'bryderi', 'høvleri', 'pakkeri', 'smi', 'økologi', 'autopsi', 'litani', 'verdi', 'vi', 'pi', 'horeri', 'infami', 'fri', 'politi', 'Lie', 'dynasti', 'heresi', 'jåleri', 'symfoni', 'melodi', 'hønseri', 'ni', 'kalori', 'alkymi', 'galleri', 'garveri', 'fril', 'tjuveri', 'sli', 'cøliaki', 'kleresi', 'li', 'skri', 'stri', 'losji', 'vinterhi', 'elegi', 'sti', 'bigami', 'gni', 'anemi', 'marki', 'modneri', 'fobi', 'selv-ironi'}\n",
      "\n",
      "Overlapping words:\n",
      "{'nid', 'glid', 'blid', 'tid'}\n",
      "Which bucket fits best?0\n",
      "598 603\n",
      "\n",
      "Choice 0:\n",
      "['snei', 'sanger-vei', 'veg', 'alfarveg', 'vei', 'meg', 'næringsvei', 'ei', 'seg', 'kirke-vei', 'Pompei', 'jeg', 'jordbærhei', 'steg', 'grei', 'aftenvei', 'lei', 'nei', 'deg', 'vuggemei', 'kontrafei', 'Nei', 'kirkeveg', 'hei']\n",
      "\n",
      "Choice 1:\n",
      "{'le', 'cd', 'ide', 'ste', 'kabaret', 'sted', 'te', 'offersted', 'sped', 'fred', 'bered', 'skred', 'bred', 'avste', 'meg', 'beskjed', 'sæd', 'juletre', 'fe', 'hvilested', 'diskre', 'gre', 'varieté', 'kne', 'derved', 'frelsesarmé', 'be', 'ed', 'med', 'deg', 'avsted', 'smed', 'ned', 'ble', 'Nudetre', 're', 'vinter-sne', 'fortred', 'fjed', 'sovekupé', 'gled', 'arnested', 'sve', 'diskré', 'det', 'geled', 'se', 'i det', 've', 'strålefjed', 'moské', 'bibelsted', 'passé', 'me', 'seg', 'Se', 'vred', 'skje', 'CD', 'passe', 'sed', 'kafé', 'spe', 'pre', 'kve', 'eg', 'led', 'herned', 'arbeidsfred', 'blomsterbed', 'ne', 'ved', 'sne', 'kildested', 'idé', 'kle', 'sved', 'galgetre', 'kje', 'herved', 'vadested', 'bre', 'vé', 'bed', 'kjærlighed', 'gje', 'armé', 'kjed', 'stred', 'kafe', 'idet', 'opstandelse', 'tre', 'kre', 'gle'}\n",
      "\n",
      "Overlapping words:\n",
      "{'meg', 'seg', 'deg'}\n",
      "Which bucket fits best?0\n",
      "599 600\n",
      "\n",
      "Choice 0:\n",
      "{'ort', 'frigjort', 'hjemmegjort', 'fort', 'muselort', 'utfallsport', 'stort', 'bort', 'dort', 'sort', 'avgjort', 'ugjort', 'uavgjort', 'glort', 'garasjeport', 'gjort', 'vippeport', 'selvgjort', 'sjølgjort', 'port', 'tort', 'tilgjort', 'skoleport', 'tjort', 'halvgjort', 'perleport', 'utgangsport', 'hjort', 'brennfort', 'unnagjort', 'lynfort', 'utgjort', 'klort', 'vertikalport', 'sonort', 'mort', 'uoppgjort', 'lort', 'breport', 'pipelort', 'sluseport', 'slalåmport', 'fôrt', 'mageport', 'lenseport', 'oppgjort', 'innfallsport', 'byport', 'velgjort', 'gitterport'}\n",
      "\n",
      "Choice 1:\n",
      "{'firkort', 'kohort', 'adgangskort', 'skisport', 'vintersport', 'knekort', 'gangsport', 'hårdt', 'fanekort', 'skort', 'troppetransport', 'knort', 'tilstandsrapport', 'pressekort', 'travsport', 'teatersport', 'nøkkelkort', 'undervannssport', 'langtransport', 'medlemskort', 'fangetransport', 'vognkort', 'kort', 'sikahjort', 'spillkort', 'sport', 'abort', 'dåhjort', 'eksport', 'førerkort', 'kartotekkort', 'sort', 'seisport', 'varetransport', 'kampsport', 'sesongkort', 'ukekort', 'identitetskort', 'kajakksport', 'tort', 'sjøtransport', 'skattekort', 'visittkort', 'situasjonsrapport', 'lånekort', 'ekstremsport', 'flerreisekort', 'trumfkort', 'hundesport', 'jaktkort', 'innbetalingskort', 'fort', 'kronhjort', 'smartkort', 'transport', 'postkort', 'boardingkort', 'rapport', 'fiskekort', 'julekort', 'apport', 'magnetkort', 'frikort', 'kredittkort', 'ID-kort', 'klatresport', 'hullkort', 'kontantkort', 'adressekort', 'lårkort', 'bordkort', 'tarotkort', 'forseggjort', 'vannsport', 'kapitaleksport', 'import', 'moskushjort', 'flytransport', 'syketransport', 'kjøpekort', 'gavekort', 'månedskort', 'vårt', 'hestesport', 'helsesport', 'girokort', 'garantikort', 'tungtransport', 'sjuketransport', 'klippekort'}\n",
      "\n",
      "Overlapping words:\n",
      "{'fort', 'sort', 'tort'}\n",
      "Which bucket fits best?0\n",
      "605 606\n",
      "\n",
      "Choice 0:\n",
      "{'mannbjørn', 'bjørn', 'grasbjørn', 'alaskabjørn', 'vaskebjørn', 'himmelørn', 'trebjørn', 'sognebørn', 'tørn', 'kodiakbjørn', 'isbjørn', 'bambusbjørn', 'vakttørn', 'kongeørn', 'brunbjørn', 'teddybjørn', 'rortørn', 'gråbjørn', 'hvitbjørn', 'halvbjørn', 'grizzlybjørn', 'ørn', 'fiskeørn', 'Ørn', 'skadebjørn', 'kvitbjørn', 'slagbjørn', 'rundtørn', 'havørn', 'kattebjørn', 'pungbjørn'}\n",
      "\n",
      "Choice 1:\n",
      "{'mannbjørn', 'bjørn', 'grasbjørn', 'alaskabjørn', 'vaskebjørn', 'trebjørn', 'tørn', 'kodiakbjørn', 'isbjørn', 'bambusbjørn', 'vakttørn', 'kongeørn', 'brunbjørn', 'teddybjørn', 'rortørn', 'gråbjørn', 'hvitbjørn', 'tjørn', 'halvbjørn', 'grizzlybjørn', 'ørn', 'fiskeørn', 'skadebjørn', 'kvitbjørn', 'børn', 'slagbjørn', 'rundtørn', 'havørn', 'kattebjørn', 'pungbjørn'}\n",
      "\n",
      "Overlapping words:\n",
      "{'mannbjørn', 'bjørn', 'grasbjørn', 'alaskabjørn', 'vaskebjørn', 'trebjørn', 'tørn', 'kodiakbjørn', 'isbjørn', 'bambusbjørn', 'vakttørn', 'kongeørn', 'brunbjørn', 'teddybjørn', 'rortørn', 'gråbjørn', 'hvitbjørn', 'halvbjørn', 'grizzlybjørn', 'ørn', 'fiskeørn', 'skadebjørn', 'kvitbjørn', 'slagbjørn', 'rundtørn', 'havørn', 'kattebjørn', 'pungbjørn'}\n",
      "Which bucket fits best?0\n",
      "609 610\n",
      "\n",
      "Choice 0:\n",
      "{'tillært', 'snert', 'lært', 'ernært', 'ekspert', 'pipekonsert', 'krovert', 'ulært', 'vanært', 'spjert', 'sært', 'ethvert', 'erklært', 'formælt', 'inert', 'besnært', 'faglært', 'mælt', 'fortært', 'fåmælt', 'selvlært', 'fjert', 'silkestjert', 'utlært', 'husvert', 'skvært', 'uttært', 'unnvært', 'nært', 'ert', 'pelt', 'kjælt', 'påkjært', 'fælt', 'stjert', 'sælt', 'gjært', 'konsert', 'forært', 'spjært', 'ekstrovert', 'piskesnert', 'bært', 'begjært', 'knert', 'pert', 'sjøllært', 'verdt', 'vert', 'hælt', 'velnært', 'introvert', 'pælt', 'lavmælt', 'underernært', 'rødstjert', 'besvært', 'vrælt', 'tært', 'sukkerert', 'svepesnert', 'ønskekonsert', 'svært', 'vært', 'tvert', 'hvert', 'kjært', 'innlært', 'fert'}\n",
      "\n",
      "Choice 1:\n",
      "{'tillært', 'snert', 'lært', 'ernært', 'ekspert', 'pipekonsert', 'krovert', 'ulært', 'vanært', 'spjert', 'sært', 'ethvert', 'erklært', 'formælt', 'inert', 'besnært', 'faglært', 'mælt', 'fortært', 'fåmælt', 'selvlært', 'fjert', 'silkestjert', 'utlært', 'husvert', 'skvært', 'uttært', 'unnvært', 'nært', 'ert', 'pelt', 'kjælt', 'påkjært', 'fælt', 'stjert', 'sælt', 'giftgass-ekspert', 'gjært', 'konsert', 'forært', 'spjært', 'ekstrovert', 'piskesnert', 'bært', 'begjært', 'knert', 'pert', 'sjøllært', 'verdt', 'vert', 'hælt', 'velnært', 'introvert', 'pælt', 'lavmælt', 'underernært', 'rødstjert', 'besvært', 'vrælt', 'tært', 'sukkerert', 'svepesnert', 'ønskekonsert', 'vært', 'tvert', 'hvert', 'kjært', 'innlært', 'fert'}\n",
      "\n",
      "Overlapping words:\n",
      "{'tillært', 'snert', 'pipekonsert', 'lært', 'ernært', 'ekspert', 'krovert', 'ulært', 'spjert', 'vanært', 'ethvert', 'sært', 'erklært', 'formælt', 'inert', 'besnært', 'faglært', 'mælt', 'fortært', 'fåmælt', 'selvlært', 'fjert', 'silkestjert', 'utlært', 'husvert', 'skvært', 'uttært', 'unnvært', 'ert', 'nært', 'pelt', 'kjælt', 'påkjært', 'stjert', 'fælt', 'sælt', 'gjært', 'konsert', 'forært', 'ekstrovert', 'spjært', 'piskesnert', 'bært', 'begjært', 'knert', 'vert', 'sjøllært', 'verdt', 'pert', 'hælt', 'introvert', 'velnært', 'lavmælt', 'pælt', 'underernært', 'rødstjert', 'besvært', 'vrælt', 'ønskekonsert', 'tært', 'sukkerert', 'svepesnert', 'vært', 'tvert', 'hvert', 'kjært', 'innlært', 'fert'}\n"
     ]
    },
    {
     "name": "stdout",
     "output_type": "stream",
     "text": [
      "Which bucket fits best?1\n"
     ]
    }
   ],
   "source": [
    "for i in range(len(buckets)):\n",
    "    for j in range(i+1, len(buckets)):\n",
    "        s = set(buckets[i]).intersection(set(buckets[j]))\n",
    "        if len(s) > 0:\n",
    "            print(i, j)\n",
    "            print(\"\\nChoice 0:\")\n",
    "            print(buckets[i])\n",
    "            print(\"\\nChoice 1:\")\n",
    "            print(buckets[j])\n",
    "            \n",
    "            print(\"\\nOverlapping words:\")\n",
    "            print(s)\n",
    "            \n",
    "            choice = int(input(\"Which bucket fits best?\"))\n",
    "            if choice == 1:\n",
    "                for e in s:\n",
    "                    buckets[i].remove(e)\n",
    "            else:\n",
    "                for e in s:\n",
    "                    buckets[j].remove(e)"
   ]
  },
  {
   "cell_type": "code",
   "execution_count": 21,
   "id": "c4069281",
   "metadata": {},
   "outputs": [],
   "source": [
    "new_buckets = [list(b) for b in buckets]\n",
    "\n",
    "# with open('pickles/merged_wiktionary_almost_rhyme_and_norsc_buckets.pickle','wb') as f:\n",
    "#     pickle.dump(new_buckets, f)"
   ]
  },
  {
   "cell_type": "code",
   "execution_count": 2,
   "id": "979e87ff",
   "metadata": {},
   "outputs": [],
   "source": [
    "with open('pickles/merged_wiktionary_almost_rhyme_and_norsc_buckets.pickle','rb') as f:\n",
    "    new_buckets = pickle.load(f)"
   ]
  },
  {
   "cell_type": "markdown",
   "id": "2c1bd5eb",
   "metadata": {},
   "source": [
    "# Inspect buckets"
   ]
  },
  {
   "cell_type": "code",
   "execution_count": 22,
   "id": "f5404240",
   "metadata": {
    "scrolled": false
   },
   "outputs": [
    {
     "data": {
      "text/plain": [
       "612"
      ]
     },
     "execution_count": 22,
     "metadata": {},
     "output_type": "execute_result"
    }
   ],
   "source": [
    "len(new_buckets)"
   ]
  },
  {
   "cell_type": "code",
   "execution_count": 3,
   "id": "9c0dfaac",
   "metadata": {},
   "outputs": [
    {
     "data": {
      "text/plain": [
       "9.972222222222221"
      ]
     },
     "execution_count": 3,
     "metadata": {},
     "output_type": "execute_result"
    }
   ],
   "source": [
    "l = [len(b) for b in new_buckets]\n",
    "np.mean(l)"
   ]
  },
  {
   "cell_type": "code",
   "execution_count": 4,
   "id": "fa34598a",
   "metadata": {
    "scrolled": true
   },
   "outputs": [
    {
     "data": {
      "text/plain": [
       "5.0"
      ]
     },
     "execution_count": 4,
     "metadata": {},
     "output_type": "execute_result"
    }
   ],
   "source": [
    "np.median(l)"
   ]
  },
  {
   "cell_type": "code",
   "execution_count": 10,
   "id": "e0ea32a2",
   "metadata": {},
   "outputs": [
    {
     "data": {
      "text/plain": [
       "[324, 255, 140, 119, 98, 92, 87, 69, 59, 50]"
      ]
     },
     "execution_count": 10,
     "metadata": {},
     "output_type": "execute_result"
    }
   ],
   "source": [
    "sorted(l, reverse=True)[:10]"
   ]
  },
  {
   "cell_type": "code",
   "execution_count": 5,
   "id": "f9d8e86a",
   "metadata": {
    "scrolled": false
   },
   "outputs": [
    {
     "data": {
      "image/png": "[encoded data removed]",
      "text/plain": [
       "<Figure size 1800x360 with 1 Axes>"
      ]
     },
     "metadata": {
      "needs_background": "light"
     },
     "output_type": "display_data"
    }
   ],
   "source": [
    "c = Counter(l)\n",
    "l2 = sorted(c.items(), key=lambda x: x[0])\n",
    "words, counts = zip(*l2[:-7])\n",
    "\n",
    "fig, ax = plt.subplots(figsize=(25,5))\n",
    "\n",
    "ax.bar(x=words, height=counts, color=\"green\")#, width=0.7)\n",
    "ax.set_xticks(words)\n",
    "ax.set_ylabel('Number of buckets')\n",
    "ax.set_xlabel('Number of words in bucket')\n",
    "\n",
    "plt.savefig(\"figs/merged_wiktionary_almost_rhyme_and_norsc_buckets.png\")\n",
    "\n",
    "plt.show()"
   ]
  },
  {
   "cell_type": "code",
   "execution_count": 25,
   "id": "b439128e",
   "metadata": {
    "scrolled": true
   },
   "outputs": [
    {
     "data": {
      "text/plain": [
       "[(87, 1), (92, 1), (98, 1), (119, 1), (140, 1), (255, 1), (324, 1)]"
      ]
     },
     "execution_count": 25,
     "metadata": {},
     "output_type": "execute_result"
    }
   ],
   "source": [
    "l2[-7:]"
   ]
  },
  {
   "cell_type": "code",
   "execution_count": 26,
   "id": "6cccff35",
   "metadata": {
    "scrolled": false
   },
   "outputs": [
    {
     "data": {
      "text/plain": [
       "[['parafin'], ['morn'], ['flystyrt'], ['svært']]"
      ]
     },
     "execution_count": 26,
     "metadata": {},
     "output_type": "execute_result"
    }
   ],
   "source": [
    "ones = [b for b in new_buckets if len(b) == 1]\n",
    "ones"
   ]
  },
  {
   "cell_type": "code",
   "execution_count": 27,
   "id": "b523772f",
   "metadata": {
    "scrolled": true
   },
   "outputs": [
    {
     "data": {
      "text/plain": [
       "[['ekorn', 'jordekorn'],\n",
       " ['skotsk', 'spotsk'],\n",
       " ['turn', 'nokturn'],\n",
       " ['hatsk', 'wattsk'],\n",
       " ['tjørn', 'børn']]"
      ]
     },
     "execution_count": 27,
     "metadata": {},
     "output_type": "execute_result"
    }
   ],
   "source": [
    "twos = [b for b in new_buckets if len(b) == 2]\n",
    "twos"
   ]
  },
  {
   "cell_type": "code",
   "execution_count": 28,
   "id": "985c007b",
   "metadata": {
    "scrolled": false
   },
   "outputs": [
    {
     "data": {
      "text/plain": [
       "166"
      ]
     },
     "execution_count": 28,
     "metadata": {},
     "output_type": "execute_result"
    }
   ],
   "source": [
    "threes = [b for b in new_buckets if len(b) == 3]\n",
    "len(threes)"
   ]
  },
  {
   "cell_type": "code",
   "execution_count": 56,
   "id": "786a2780",
   "metadata": {
    "scrolled": true
   },
   "outputs": [
    {
     "data": {
      "text/plain": [
       "106"
      ]
     },
     "execution_count": 56,
     "metadata": {},
     "output_type": "execute_result"
    }
   ],
   "source": [
    "fours = [b for b in new_buckets if len(b) == 4]\n",
    "len(fours)"
   ]
  },
  {
   "cell_type": "markdown",
   "id": "3b6452d3",
   "metadata": {},
   "source": [
    "## Create rhyme pairs"
   ]
  },
  {
   "cell_type": "code",
   "execution_count": 30,
   "id": "5012596d",
   "metadata": {},
   "outputs": [],
   "source": [
    "def get_mirrored_dupes(pairs):\n",
    "    l = list(pairs)\n",
    "    rem = set()\n",
    "\n",
    "    for i,(a,b) in enumerate(l):\n",
    "        if (b,a) in l[i:]:\n",
    "            rem.add((b, a))\n",
    "    return rem"
   ]
  },
  {
   "cell_type": "code",
   "execution_count": 31,
   "id": "75da503f",
   "metadata": {},
   "outputs": [
    {
     "data": {
      "text/plain": [
       "155069"
      ]
     },
     "execution_count": 31,
     "metadata": {},
     "output_type": "execute_result"
    }
   ],
   "source": [
    "import itertools\n",
    "\n",
    "pairs = set()\n",
    "\n",
    "for bucket in new_buckets:\n",
    "    c = list(itertools.combinations(bucket, 2))\n",
    "    if c:\n",
    "        rem = get_mirrored_dupes(c)\n",
    "        c = set(c) - rem\n",
    "        pairs.update(c)\n",
    "\n",
    "len(pairs)"
   ]
  },
  {
   "cell_type": "code",
   "execution_count": 41,
   "id": "800c5060",
   "metadata": {
    "scrolled": true
   },
   "outputs": [
    {
     "data": {
      "text/html": [
       "<div>\n",
       "<style scoped>\n",
       "    .dataframe tbody tr th:only-of-type {\n",
       "        vertical-align: middle;\n",
       "    }\n",
       "\n",
       "    .dataframe tbody tr th {\n",
       "        vertical-align: top;\n",
       "    }\n",
       "\n",
       "    .dataframe thead th {\n",
       "        text-align: right;\n",
       "    }\n",
       "</style>\n",
       "<table border=\"1\" class=\"dataframe\">\n",
       "  <thead>\n",
       "    <tr style=\"text-align: right;\">\n",
       "      <th></th>\n",
       "      <th>word_a</th>\n",
       "      <th>word_b</th>\n",
       "      <th>rhyme</th>\n",
       "    </tr>\n",
       "  </thead>\n",
       "  <tbody>\n",
       "    <tr>\n",
       "      <th>0</th>\n",
       "      <td>lanterner</td>\n",
       "      <td>strandblomststjerner</td>\n",
       "      <td>1</td>\n",
       "    </tr>\n",
       "    <tr>\n",
       "      <th>1</th>\n",
       "      <td>trakter</td>\n",
       "      <td>betrakter</td>\n",
       "      <td>1</td>\n",
       "    </tr>\n",
       "    <tr>\n",
       "      <th>2</th>\n",
       "      <td>midnattsstund</td>\n",
       "      <td>menneskemunn</td>\n",
       "      <td>1</td>\n",
       "    </tr>\n",
       "    <tr>\n",
       "      <th>3</th>\n",
       "      <td>palmesving</td>\n",
       "      <td>engleving</td>\n",
       "      <td>1</td>\n",
       "    </tr>\n",
       "    <tr>\n",
       "      <th>4</th>\n",
       "      <td>sjal</td>\n",
       "      <td>gal</td>\n",
       "      <td>1</td>\n",
       "    </tr>\n",
       "    <tr>\n",
       "      <th>...</th>\n",
       "      <td>...</td>\n",
       "      <td>...</td>\n",
       "      <td>...</td>\n",
       "    </tr>\n",
       "    <tr>\n",
       "      <th>18464</th>\n",
       "      <td>piler</td>\n",
       "      <td>tviler</td>\n",
       "      <td>1</td>\n",
       "    </tr>\n",
       "    <tr>\n",
       "      <th>18465</th>\n",
       "      <td>telt</td>\n",
       "      <td>felt</td>\n",
       "      <td>1</td>\n",
       "    </tr>\n",
       "    <tr>\n",
       "      <th>18466</th>\n",
       "      <td>smil</td>\n",
       "      <td>strengespill</td>\n",
       "      <td>1</td>\n",
       "    </tr>\n",
       "    <tr>\n",
       "      <th>18467</th>\n",
       "      <td>ruter</td>\n",
       "      <td>luter</td>\n",
       "      <td>1</td>\n",
       "    </tr>\n",
       "    <tr>\n",
       "      <th>18468</th>\n",
       "      <td>sølvsardin</td>\n",
       "      <td>aftenvind</td>\n",
       "      <td>1</td>\n",
       "    </tr>\n",
       "  </tbody>\n",
       "</table>\n",
       "<p>18469 rows × 3 columns</p>\n",
       "</div>"
      ],
      "text/plain": [
       "              word_a                word_b  rhyme\n",
       "0          lanterner  strandblomststjerner      1\n",
       "1            trakter             betrakter      1\n",
       "2      midnattsstund          menneskemunn      1\n",
       "3         palmesving             engleving      1\n",
       "4               sjal                   gal      1\n",
       "...              ...                   ...    ...\n",
       "18464          piler                tviler      1\n",
       "18465           telt                  felt      1\n",
       "18466           smil          strengespill      1\n",
       "18467          ruter                 luter      1\n",
       "18468     sølvsardin             aftenvind      1\n",
       "\n",
       "[18469 rows x 3 columns]"
      ]
     },
     "execution_count": 41,
     "metadata": {},
     "output_type": "execute_result"
    }
   ],
   "source": [
    "df = pd.read_csv(\"tsvs/good_buckets_pairs.tsv\", sep=\"\\t\")\n",
    "df"
   ]
  },
  {
   "cell_type": "code",
   "execution_count": 44,
   "id": "0ffdc9e9",
   "metadata": {},
   "outputs": [
    {
     "data": {
      "text/plain": [
       "18469"
      ]
     },
     "execution_count": 44,
     "metadata": {},
     "output_type": "execute_result"
    }
   ],
   "source": [
    "pp = set(zip(df.word_a, df.word_b))\n",
    "len(pp)"
   ]
  },
  {
   "cell_type": "code",
   "execution_count": 46,
   "id": "ad193609",
   "metadata": {},
   "outputs": [
    {
     "data": {
      "text/plain": [
       "8763"
      ]
     },
     "execution_count": 46,
     "metadata": {},
     "output_type": "execute_result"
    }
   ],
   "source": [
    "len(pp.intersection(pairs))"
   ]
  },
  {
   "cell_type": "code",
   "execution_count": 50,
   "id": "6b42f1f0",
   "metadata": {},
   "outputs": [
    {
     "data": {
      "text/plain": [
       "(155838, 155069, 769)"
      ]
     },
     "execution_count": 50,
     "metadata": {},
     "output_type": "execute_result"
    }
   ],
   "source": [
    "pp.update(pairs)\n",
    "rem = get_mirrored_dupes(pp)\n",
    "pp -= rem\n",
    "len(pp), len(pairs), len(pp)-len(pairs)"
   ]
  },
  {
   "cell_type": "code",
   "execution_count": 54,
   "id": "a73402f0",
   "metadata": {},
   "outputs": [
    {
     "data": {
      "text/html": [
       "<div>\n",
       "<style scoped>\n",
       "    .dataframe tbody tr th:only-of-type {\n",
       "        vertical-align: middle;\n",
       "    }\n",
       "\n",
       "    .dataframe tbody tr th {\n",
       "        vertical-align: top;\n",
       "    }\n",
       "\n",
       "    .dataframe thead th {\n",
       "        text-align: right;\n",
       "    }\n",
       "</style>\n",
       "<table border=\"1\" class=\"dataframe\">\n",
       "  <thead>\n",
       "    <tr style=\"text-align: right;\">\n",
       "      <th></th>\n",
       "      <th>word_a</th>\n",
       "      <th>word_b</th>\n",
       "      <th>rhyme</th>\n",
       "    </tr>\n",
       "  </thead>\n",
       "  <tbody>\n",
       "    <tr>\n",
       "      <th>0</th>\n",
       "      <td>Å</td>\n",
       "      <td>vrå</td>\n",
       "      <td>1</td>\n",
       "    </tr>\n",
       "    <tr>\n",
       "      <th>1</th>\n",
       "      <td>glatt</td>\n",
       "      <td>blomsterskatt</td>\n",
       "      <td>1</td>\n",
       "    </tr>\n",
       "    <tr>\n",
       "      <th>2</th>\n",
       "      <td>forfulgt</td>\n",
       "      <td>skjult</td>\n",
       "      <td>1</td>\n",
       "    </tr>\n",
       "    <tr>\n",
       "      <th>3</th>\n",
       "      <td>urfugl</td>\n",
       "      <td>neslesommerfugl</td>\n",
       "      <td>1</td>\n",
       "    </tr>\n",
       "    <tr>\n",
       "      <th>4</th>\n",
       "      <td>lampeskinn</td>\n",
       "      <td>skinn</td>\n",
       "      <td>1</td>\n",
       "    </tr>\n",
       "    <tr>\n",
       "      <th>...</th>\n",
       "      <td>...</td>\n",
       "      <td>...</td>\n",
       "      <td>...</td>\n",
       "    </tr>\n",
       "    <tr>\n",
       "      <th>155833</th>\n",
       "      <td>fremmedland</td>\n",
       "      <td>Cannes</td>\n",
       "      <td>1</td>\n",
       "    </tr>\n",
       "    <tr>\n",
       "      <th>155834</th>\n",
       "      <td>luksusbil</td>\n",
       "      <td>utskill</td>\n",
       "      <td>1</td>\n",
       "    </tr>\n",
       "    <tr>\n",
       "      <th>155835</th>\n",
       "      <td>fin</td>\n",
       "      <td>derinn</td>\n",
       "      <td>1</td>\n",
       "    </tr>\n",
       "    <tr>\n",
       "      <th>155836</th>\n",
       "      <td>bobil</td>\n",
       "      <td>sagastil</td>\n",
       "      <td>1</td>\n",
       "    </tr>\n",
       "    <tr>\n",
       "      <th>155837</th>\n",
       "      <td>agoni</td>\n",
       "      <td>biologi</td>\n",
       "      <td>1</td>\n",
       "    </tr>\n",
       "  </tbody>\n",
       "</table>\n",
       "<p>155838 rows × 3 columns</p>\n",
       "</div>"
      ],
      "text/plain": [
       "             word_a           word_b  rhyme\n",
       "0                 Å              vrå      1\n",
       "1             glatt    blomsterskatt      1\n",
       "2          forfulgt           skjult      1\n",
       "3            urfugl  neslesommerfugl      1\n",
       "4        lampeskinn            skinn      1\n",
       "...             ...              ...    ...\n",
       "155833  fremmedland           Cannes      1\n",
       "155834    luksusbil          utskill      1\n",
       "155835          fin           derinn      1\n",
       "155836        bobil         sagastil      1\n",
       "155837        agoni          biologi      1\n",
       "\n",
       "[155838 rows x 3 columns]"
      ]
     },
     "execution_count": 54,
     "metadata": {},
     "output_type": "execute_result"
    }
   ],
   "source": [
    "import pandas as pd\n",
    "\n",
    "words_a, words_b = zip(*pp)\n",
    "pair_df = pd.DataFrame({\"word_a\" : words_a, \"word_b\": words_b, \"rhyme\": [1]*len(pp)})\n",
    "pair_df.to_csv(\"tsvs/merged_buckets_pairs.tsv\", sep=\"\\t\", index=False)\n",
    "pair_df"
   ]
  },
  {
   "cell_type": "code",
   "execution_count": 55,
   "id": "42752d74",
   "metadata": {},
   "outputs": [
    {
     "data": {
      "text/plain": [
       "7541"
      ]
     },
     "execution_count": 55,
     "metadata": {},
     "output_type": "execute_result"
    }
   ],
   "source": [
    "v = set(list(pair_df.word_a) + list(pair_df.word_b))\n",
    "len(v)"
   ]
  }
 ],
 "metadata": {
  "kernelspec": {
   "display_name": "Python 3",
   "language": "python",
   "name": "python3"
  },
  "language_info": {
   "codemirror_mode": {
    "name": "ipython",
    "version": 3
   },
   "file_extension": ".py",
   "mimetype": "text/x-python",
   "name": "python",
   "nbconvert_exporter": "python",
   "pygments_lexer": "ipython3",
   "version": "3.9.7"
  }
 },
 "nbformat": 4,
 "nbformat_minor": 5
}
