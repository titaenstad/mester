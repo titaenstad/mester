{
 "cells": [
  {
   "cell_type": "markdown",
   "id": "d77e0b3a",
   "metadata": {},
   "source": [
    "# Separate stanzas for annotation\n",
    "## Step 1: gather random stanzas from the datast"
   ]
  },
  {
   "cell_type": "code",
   "execution_count": 1,
   "id": "56743eef",
   "metadata": {},
   "outputs": [],
   "source": [
    "import string\n",
    "\n",
    "import pandas as pd\n",
    "import nltk"
   ]
  },
  {
   "cell_type": "code",
   "execution_count": 2,
   "id": "cf3c21a7",
   "metadata": {},
   "outputs": [],
   "source": [
    "punctuation = string.punctuation + \"«»—...\"\n",
    "\n",
    "def tokenize_line(line):\n",
    "    return [t.lower() for t in nltk.tokenize.word_tokenize(line, language='norwegian') if t not in punctuation]"
   ]
  },
  {
   "cell_type": "code",
   "execution_count": 3,
   "id": "3e90c9b6",
   "metadata": {},
   "outputs": [
    {
     "data": {
      "text/plain": [
       "(4, 20)"
      ]
     },
     "execution_count": 3,
     "metadata": {},
     "output_type": "execute_result"
    }
   ],
   "source": [
    "df = pd.read_csv(\"../../norwegian_rhyme_scheme_corpus/tsvs/tita_rhymes_poems.tsv\", sep=\"\\t\")\n",
    "n = 20*4\n",
    "df = df.sample(n=n, random_state=1337)\n",
    "schemes = list(df[\"rhyme scheme\"])\n",
    "stanzas = list(df.stanza)\n",
    "\n",
    "stanzas = [\"\\n\".join([\" \".join(tokenize_line(line)) for line in stanza.split(\"\\n\")]) for stanza in stanzas]\n",
    "stanzas = [(stanza, scheme) for stanza, scheme in zip(stanzas, schemes)]\n",
    "\n",
    "split_stanzas = [stanzas[x:x+20] for x in range(0, len(stanzas), 20)]\n",
    "len(split_stanzas), len(split_stanzas[0])"
   ]
  },
  {
   "cell_type": "markdown",
   "id": "02308c50",
   "metadata": {},
   "source": [
    "## Step 2: gather baseline generations (without rhyme)"
   ]
  },
  {
   "cell_type": "code",
   "execution_count": 4,
   "id": "617c897e",
   "metadata": {
    "scrolled": true
   },
   "outputs": [
    {
     "data": {
      "text/plain": [
       "(4, 10)"
      ]
     },
     "execution_count": 4,
     "metadata": {},
     "output_type": "execute_result"
    }
   ],
   "source": [
    "with open(\"baseline_poetry_no_rhyme_stanza.txt\") as f:\n",
    "    text = f.read()\n",
    "    \n",
    "text = text.split(\"\\n\\n\")\n",
    "baseline_stanzas = text[:40]\n",
    "\n",
    "split_baseline_stanzas = [baseline_stanzas[x:x+10] for x in range(0, len(baseline_stanzas), 10)]\n",
    "len(split_baseline_stanzas), len(split_baseline_stanzas[0])"
   ]
  },
  {
   "cell_type": "markdown",
   "id": "e52261e5",
   "metadata": {},
   "source": [
    "## Step 3: gather line-based verse generations"
   ]
  },
  {
   "cell_type": "code",
   "execution_count": 5,
   "id": "3d262949",
   "metadata": {},
   "outputs": [
    {
     "data": {
      "text/plain": [
       "(4, 10)"
      ]
     },
     "execution_count": 5,
     "metadata": {},
     "output_type": "execute_result"
    }
   ],
   "source": [
    "with open(\"generated_rhyming_poetry_rhyme_gen_norsc_big_9_buckets_line.txt\") as f:\n",
    "    text = f.read()\n",
    "\n",
    "text = text.split(\"\\n\\n\")[:40]\n",
    "line_schemes = [stanza.split(\"\\n\")[0] for stanza in text]\n",
    "line_stanzas = [\"\\n\".join(stanza.split(\"\\n\")[1:]) for stanza in text]\n",
    "\n",
    "line_stanzas = [(stanza, scheme) for stanza, scheme in zip(line_stanzas, line_schemes)]\n",
    "\n",
    "split_line_stanzas = [line_stanzas[x:x+10] for x in range(0, len(line_stanzas), 10)]\n",
    "len(split_line_stanzas), len(split_line_stanzas[0])"
   ]
  },
  {
   "cell_type": "markdown",
   "id": "d57bdb8c",
   "metadata": {},
   "source": [
    "## Step 4: gather stanza-based verse generations"
   ]
  },
  {
   "cell_type": "code",
   "execution_count": 6,
   "id": "318fba2c",
   "metadata": {},
   "outputs": [
    {
     "data": {
      "text/plain": [
       "(4, 10)"
      ]
     },
     "execution_count": 6,
     "metadata": {},
     "output_type": "execute_result"
    }
   ],
   "source": [
    "with open(\"generated_rhyming_poetry_rhyme_gen_norsc_big_9_buckets_stanza.txt\") as f:\n",
    "    text = f.read()\n",
    "\n",
    "text = text.split(\"\\n \\n\")[:40]\n",
    "stanza_schemes = [stanza.split(\"\\n\")[0] for stanza in text]\n",
    "stanza_stanzas = [\"\\n\".join(stanza.split(\"\\n\")[1:]) for stanza in text]\n",
    "\n",
    "stanza_stanzas = [(stanza, scheme) for stanza, scheme in zip(stanza_stanzas, stanza_schemes)]\n",
    "\n",
    "split_stanza_stanzas = [stanza_stanzas[x:x+10] for x in range(0, len(stanza_stanzas), 10)]\n",
    "len(split_stanza_stanzas), len(split_stanza_stanzas[0])"
   ]
  },
  {
   "cell_type": "markdown",
   "id": "bd9a6be1",
   "metadata": {},
   "source": [
    "# Split into four schemes"
   ]
  },
  {
   "cell_type": "code",
   "execution_count": 7,
   "id": "643672cf",
   "metadata": {},
   "outputs": [],
   "source": [
    "import random\n",
    "random.seed(1337)\n",
    "\n",
    "for j in range(4):\n",
    "    orig = split_stanzas[j]\n",
    "    base = split_baseline_stanzas[j]\n",
    "    line = split_line_stanzas[j]\n",
    "    stanz = split_stanza_stanzas[j]\n",
    "    \n",
    "    side_by_side_orig = orig[:15]\n",
    "    stanza_o, scheme_o = zip(*side_by_side_orig)\n",
    "\n",
    "    side_by_side_gen = line[:5] + stanz[:5]\n",
    "    stanza_g, scheme_g = zip(*side_by_side_gen)\n",
    "    stanza_g = list(stanza_g) + base[:5]\n",
    "    scheme_g = list(scheme_g) + [\"-\"]*5\n",
    "\n",
    "    df = pd.DataFrame({\"type\": [\"orig\"]*15 + [\"line\"]*5 + [\"stanza\"]*5 + [\"base\"]*5, \n",
    "                       \"scheme\": list(scheme_o) + scheme_g, \n",
    "                       \"stanza\": list(stanza_o) + stanza_g})\n",
    "\n",
    "    # shuffle the generated stanzas\n",
    "    gen_is = df.loc[df[\"type\"]!=\"orig\"].sample(n=len(df)//2, random_state=1337).index\n",
    "\n",
    "    pair_index = list(range(len(df)))\n",
    "\n",
    "    for i, g in enumerate(gen_is):\n",
    "        pair_index[g] = i\n",
    "\n",
    "    df[\"pair_number\"] = pair_index\n",
    "\n",
    "    order_in_pair = [random.choice([0,2]) for i in range(len(df)//2)] + [1]*(len(df)//2)\n",
    "    df[\"order_in_pair\"] = order_in_pair\n",
    "    df = df.sort_values(by=[\"pair_number\", \"order_in_pair\"])\n",
    "        \n",
    "    rest = orig[15:] + line[5:] + stanz[5:]\n",
    "    rest_stanz, rest_scheme = zip(*rest)\n",
    "    rest_stanz = list(rest_stanz) + base[5:]\n",
    "    rest_scheme = list(rest_scheme) + [\"-\"]*5\n",
    "\n",
    "    df2 = pd.DataFrame({\"type\": [\"orig\"]*5 + [\"line\"]*5 + [\"stanza\"]*5 + [\"base\"]*5,\n",
    "                      \"scheme\": rest_scheme, \"stanza\": rest_stanz})\n",
    "\n",
    "    df2 = df2.sample(n=len(df2), random_state=1337)\n",
    "    \n",
    "    df.to_csv(f\"side_by_side_form_{j+1}.tsv\", sep=\"\\t\")\n",
    "    df2.to_csv(f\"rest_{j+1}.tsv\", sep=\"\\t\")\n",
    "    \n",
    "    s = \"\"\n",
    "    for e in df.itertuples():\n",
    "        s += f\"\"\"\n",
    "        PAIR NUMBER: {e.pair_number} \n",
    "        type: {e.type}\\t scheme: {e.scheme}\n",
    "        \n",
    "        {e.stanza}\n",
    "        \n",
    "        \n",
    "        \"\"\"   \n",
    "    \n",
    "    s += \"-------------SINGLE STANZAS-------------\"\n",
    "    for e in df2.itertuples():\n",
    "        s += f\"\"\"        \n",
    "        type: {e.type}\\t scheme: {e.scheme}\n",
    "        \n",
    "        {e.stanza}\n",
    "        \n",
    "        \n",
    "        \"\"\" \n",
    "        \n",
    "    with open(f\"schema_{j+1}\", \"w+\") as f:\n",
    "        f.write(s)"
   ]
  },
  {
   "cell_type": "code",
   "execution_count": null,
   "id": "ddb6ba47",
   "metadata": {},
   "outputs": [],
   "source": []
  }
 ],
 "metadata": {
  "kernelspec": {
   "display_name": "Python 3",
   "language": "python",
   "name": "python3"
  },
  "language_info": {
   "codemirror_mode": {
    "name": "ipython",
    "version": 3
   },
   "file_extension": ".py",
   "mimetype": "text/x-python",
   "name": "python",
   "nbconvert_exporter": "python",
   "pygments_lexer": "ipython3",
   "version": "3.9.7"
  }
 },
 "nbformat": 4,
 "nbformat_minor": 5
}
